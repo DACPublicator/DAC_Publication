{
 "cells": [
  {
   "cell_type": "code",
   "execution_count": 2,
   "metadata": {
    "colab": {
     "base_uri": "https://localhost:8080/",
     "height": 72
    },
    "colab_type": "code",
    "executionInfo": {
     "elapsed": 1104,
     "status": "ok",
     "timestamp": 1588345755959,
     "user": {
      "displayName": "Paul-Emile Gras",
      "photoUrl": "https://lh3.googleusercontent.com/a-/AOh14Giun006VpfVDRCMkatdIZ4QMJQ93cuayK9VMSKVPw=s64",
      "userId": "16931926333659806768"
     },
     "user_tz": 240
    },
    "id": "3UHmqFvD8Szr",
    "outputId": "66de9d3a-8599-4459-e933-94a48c012397"
   },
   "outputs": [],
   "source": [
    "import numpy as np\n",
    "import pandas as pd\n",
    "\n",
    "from sklearn.preprocessing import MinMaxScaler\n",
    "from sklearn.linear_model import LinearRegression, LassoCV, Lasso, ElasticNetCV\n",
    "from sklearn.metrics import r2_score, mean_squared_error, mean_squared_log_error\n",
    "from sklearn.cluster import KMeans, DBSCAN, OPTICS\n",
    "from sklearn.model_selection import train_test_split\n",
    "from sklearn.tree import DecisionTreeRegressor\n",
    "from sklearn.ensemble import RandomForestRegressor, GradientBoostingRegressor\n",
    "from sklearn.neural_network import MLPClassifier\n",
    "from sklearn.model_selection import cross_val_score\n",
    "\n",
    "from statsmodels.regression.linear_model import OLS\n",
    "#import matplotlib.pyplot as plt\n",
    "from scipy.stats import norm\n",
    "import random\n",
    "\n",
    "# suppress all warnings\n",
    "import warnings\n",
    "warnings.filterwarnings(\"ignore\")"
   ]
  },
  {
   "cell_type": "markdown",
   "metadata": {
    "colab_type": "text",
    "id": "sOnLpDJj8Szx"
   },
   "source": [
    "# Import Data"
   ]
  },
  {
   "cell_type": "code",
   "execution_count": 4,
   "metadata": {
    "colab": {
     "base_uri": "https://localhost:8080/",
     "height": 843
    },
    "colab_type": "code",
    "executionInfo": {
     "elapsed": 544,
     "status": "ok",
     "timestamp": 1588345769535,
     "user": {
      "displayName": "Paul-Emile Gras",
      "photoUrl": "https://lh3.googleusercontent.com/a-/AOh14Giun006VpfVDRCMkatdIZ4QMJQ93cuayK9VMSKVPw=s64",
      "userId": "16931926333659806768"
     },
     "user_tz": 240
    },
    "id": "tDR368X88Szz",
    "outputId": "ebc97c9d-1b89-448b-8fe5-d3c6d75b07af"
   },
   "outputs": [
    {
     "data": {
      "text/html": [
       "<div>\n",
       "<style scoped>\n",
       "    .dataframe tbody tr th:only-of-type {\n",
       "        vertical-align: middle;\n",
       "    }\n",
       "\n",
       "    .dataframe tbody tr th {\n",
       "        vertical-align: top;\n",
       "    }\n",
       "\n",
       "    .dataframe thead th {\n",
       "        text-align: right;\n",
       "    }\n",
       "</style>\n",
       "<table border=\"1\" class=\"dataframe\">\n",
       "  <thead>\n",
       "    <tr style=\"text-align: right;\">\n",
       "      <th></th>\n",
       "      <th>sku</th>\n",
       "      <th>class</th>\n",
       "      <th>week</th>\n",
       "      <th>desc</th>\n",
       "      <th>units</th>\n",
       "      <th>revenue</th>\n",
       "      <th>promoFlag</th>\n",
       "      <th>promoPrice</th>\n",
       "      <th>forecast</th>\n",
       "      <th>functionality</th>\n",
       "      <th>color</th>\n",
       "      <th>vendor</th>\n",
       "      <th>fatigue</th>\n",
       "      <th>month</th>\n",
       "      <th>price</th>\n",
       "      <th>trend</th>\n",
       "      <th>promo</th>\n",
       "    </tr>\n",
       "  </thead>\n",
       "  <tbody>\n",
       "    <tr>\n",
       "      <th>0</th>\n",
       "      <td>792257</td>\n",
       "      <td>335</td>\n",
       "      <td>2013111</td>\n",
       "      <td>LOGITECH WIRELESS MK320</td>\n",
       "      <td>366</td>\n",
       "      <td>10889.71</td>\n",
       "      <td>False</td>\n",
       "      <td>NaN</td>\n",
       "      <td>NaN</td>\n",
       "      <td>keyboard</td>\n",
       "      <td>black</td>\n",
       "      <td>Logitech</td>\n",
       "      <td>0</td>\n",
       "      <td>11</td>\n",
       "      <td>29.753306</td>\n",
       "      <td>0</td>\n",
       "      <td>0</td>\n",
       "    </tr>\n",
       "    <tr>\n",
       "      <th>1</th>\n",
       "      <td>792257</td>\n",
       "      <td>335</td>\n",
       "      <td>2013112</td>\n",
       "      <td>LOGITECH WIRELESS MK320</td>\n",
       "      <td>424</td>\n",
       "      <td>12453.43</td>\n",
       "      <td>False</td>\n",
       "      <td>NaN</td>\n",
       "      <td>NaN</td>\n",
       "      <td>keyboard</td>\n",
       "      <td>black</td>\n",
       "      <td>Logitech</td>\n",
       "      <td>0</td>\n",
       "      <td>11</td>\n",
       "      <td>29.371297</td>\n",
       "      <td>0</td>\n",
       "      <td>0</td>\n",
       "    </tr>\n",
       "    <tr>\n",
       "      <th>2</th>\n",
       "      <td>792257</td>\n",
       "      <td>335</td>\n",
       "      <td>2013113</td>\n",
       "      <td>LOGITECH WIRELESS MK320</td>\n",
       "      <td>193</td>\n",
       "      <td>5635.89</td>\n",
       "      <td>False</td>\n",
       "      <td>NaN</td>\n",
       "      <td>NaN</td>\n",
       "      <td>keyboard</td>\n",
       "      <td>black</td>\n",
       "      <td>Logitech</td>\n",
       "      <td>0</td>\n",
       "      <td>11</td>\n",
       "      <td>29.201503</td>\n",
       "      <td>0</td>\n",
       "      <td>0</td>\n",
       "    </tr>\n",
       "    <tr>\n",
       "      <th>3</th>\n",
       "      <td>792257</td>\n",
       "      <td>335</td>\n",
       "      <td>2013114</td>\n",
       "      <td>LOGITECH WIRELESS MK320</td>\n",
       "      <td>128</td>\n",
       "      <td>3662.98</td>\n",
       "      <td>False</td>\n",
       "      <td>NaN</td>\n",
       "      <td>NaN</td>\n",
       "      <td>keyboard</td>\n",
       "      <td>black</td>\n",
       "      <td>Logitech</td>\n",
       "      <td>0</td>\n",
       "      <td>11</td>\n",
       "      <td>28.617031</td>\n",
       "      <td>0</td>\n",
       "      <td>0</td>\n",
       "    </tr>\n",
       "    <tr>\n",
       "      <th>4</th>\n",
       "      <td>792257</td>\n",
       "      <td>335</td>\n",
       "      <td>2013115</td>\n",
       "      <td>LOGITECH WIRELESS MK320</td>\n",
       "      <td>145</td>\n",
       "      <td>4323.56</td>\n",
       "      <td>False</td>\n",
       "      <td>NaN</td>\n",
       "      <td>NaN</td>\n",
       "      <td>keyboard</td>\n",
       "      <td>black</td>\n",
       "      <td>Logitech</td>\n",
       "      <td>0</td>\n",
       "      <td>11</td>\n",
       "      <td>29.817655</td>\n",
       "      <td>0</td>\n",
       "      <td>0</td>\n",
       "    </tr>\n",
       "    <tr>\n",
       "      <th>...</th>\n",
       "      <td>...</td>\n",
       "      <td>...</td>\n",
       "      <td>...</td>\n",
       "      <td>...</td>\n",
       "      <td>...</td>\n",
       "      <td>...</td>\n",
       "      <td>...</td>\n",
       "      <td>...</td>\n",
       "      <td>...</td>\n",
       "      <td>...</td>\n",
       "      <td>...</td>\n",
       "      <td>...</td>\n",
       "      <td>...</td>\n",
       "      <td>...</td>\n",
       "      <td>...</td>\n",
       "      <td>...</td>\n",
       "      <td>...</td>\n",
       "    </tr>\n",
       "    <tr>\n",
       "      <th>19059</th>\n",
       "      <td>953406</td>\n",
       "      <td>335</td>\n",
       "      <td>2016085</td>\n",
       "      <td>SCULPT TOUCH MOUSE BLUETOOTH</td>\n",
       "      <td>1</td>\n",
       "      <td>16.99</td>\n",
       "      <td>False</td>\n",
       "      <td>NaN</td>\n",
       "      <td>NaN</td>\n",
       "      <td>mouse</td>\n",
       "      <td>blue</td>\n",
       "      <td>Microsoft</td>\n",
       "      <td>52</td>\n",
       "      <td>8</td>\n",
       "      <td>16.990000</td>\n",
       "      <td>3</td>\n",
       "      <td>0</td>\n",
       "    </tr>\n",
       "    <tr>\n",
       "      <th>19060</th>\n",
       "      <td>953406</td>\n",
       "      <td>335</td>\n",
       "      <td>2016091</td>\n",
       "      <td>SCULPT TOUCH MOUSE BLUETOOTH</td>\n",
       "      <td>1</td>\n",
       "      <td>16.99</td>\n",
       "      <td>False</td>\n",
       "      <td>NaN</td>\n",
       "      <td>NaN</td>\n",
       "      <td>mouse</td>\n",
       "      <td>blue</td>\n",
       "      <td>Microsoft</td>\n",
       "      <td>53</td>\n",
       "      <td>9</td>\n",
       "      <td>16.990000</td>\n",
       "      <td>3</td>\n",
       "      <td>0</td>\n",
       "    </tr>\n",
       "    <tr>\n",
       "      <th>19061</th>\n",
       "      <td>953406</td>\n",
       "      <td>335</td>\n",
       "      <td>2016092</td>\n",
       "      <td>SCULPT TOUCH MOUSE BLUETOOTH</td>\n",
       "      <td>1</td>\n",
       "      <td>16.99</td>\n",
       "      <td>False</td>\n",
       "      <td>NaN</td>\n",
       "      <td>NaN</td>\n",
       "      <td>mouse</td>\n",
       "      <td>blue</td>\n",
       "      <td>Microsoft</td>\n",
       "      <td>54</td>\n",
       "      <td>9</td>\n",
       "      <td>16.990000</td>\n",
       "      <td>3</td>\n",
       "      <td>0</td>\n",
       "    </tr>\n",
       "    <tr>\n",
       "      <th>19062</th>\n",
       "      <td>953406</td>\n",
       "      <td>335</td>\n",
       "      <td>2016101</td>\n",
       "      <td>SCULPT TOUCH MOUSE BLUETOOTH</td>\n",
       "      <td>1</td>\n",
       "      <td>16.99</td>\n",
       "      <td>False</td>\n",
       "      <td>NaN</td>\n",
       "      <td>NaN</td>\n",
       "      <td>mouse</td>\n",
       "      <td>blue</td>\n",
       "      <td>Microsoft</td>\n",
       "      <td>57</td>\n",
       "      <td>10</td>\n",
       "      <td>16.990000</td>\n",
       "      <td>3</td>\n",
       "      <td>0</td>\n",
       "    </tr>\n",
       "    <tr>\n",
       "      <th>19063</th>\n",
       "      <td>953406</td>\n",
       "      <td>335</td>\n",
       "      <td>2016103</td>\n",
       "      <td>SCULPT TOUCH MOUSE BLUETOOTH</td>\n",
       "      <td>2</td>\n",
       "      <td>33.98</td>\n",
       "      <td>False</td>\n",
       "      <td>NaN</td>\n",
       "      <td>NaN</td>\n",
       "      <td>mouse</td>\n",
       "      <td>blue</td>\n",
       "      <td>Microsoft</td>\n",
       "      <td>59</td>\n",
       "      <td>10</td>\n",
       "      <td>16.990000</td>\n",
       "      <td>3</td>\n",
       "      <td>0</td>\n",
       "    </tr>\n",
       "  </tbody>\n",
       "</table>\n",
       "<p>19064 rows × 17 columns</p>\n",
       "</div>"
      ],
      "text/plain": [
       "          sku  class     week                          desc  units   revenue  \\\n",
       "0      792257    335  2013111       LOGITECH WIRELESS MK320    366  10889.71   \n",
       "1      792257    335  2013112       LOGITECH WIRELESS MK320    424  12453.43   \n",
       "2      792257    335  2013113       LOGITECH WIRELESS MK320    193   5635.89   \n",
       "3      792257    335  2013114       LOGITECH WIRELESS MK320    128   3662.98   \n",
       "4      792257    335  2013115       LOGITECH WIRELESS MK320    145   4323.56   \n",
       "...       ...    ...      ...                           ...    ...       ...   \n",
       "19059  953406    335  2016085  SCULPT TOUCH MOUSE BLUETOOTH      1     16.99   \n",
       "19060  953406    335  2016091  SCULPT TOUCH MOUSE BLUETOOTH      1     16.99   \n",
       "19061  953406    335  2016092  SCULPT TOUCH MOUSE BLUETOOTH      1     16.99   \n",
       "19062  953406    335  2016101  SCULPT TOUCH MOUSE BLUETOOTH      1     16.99   \n",
       "19063  953406    335  2016103  SCULPT TOUCH MOUSE BLUETOOTH      2     33.98   \n",
       "\n",
       "       promoFlag  promoPrice  forecast functionality  color     vendor  \\\n",
       "0          False         NaN       NaN      keyboard  black   Logitech   \n",
       "1          False         NaN       NaN      keyboard  black   Logitech   \n",
       "2          False         NaN       NaN      keyboard  black   Logitech   \n",
       "3          False         NaN       NaN      keyboard  black   Logitech   \n",
       "4          False         NaN       NaN      keyboard  black   Logitech   \n",
       "...          ...         ...       ...           ...    ...        ...   \n",
       "19059      False         NaN       NaN         mouse   blue  Microsoft   \n",
       "19060      False         NaN       NaN         mouse   blue  Microsoft   \n",
       "19061      False         NaN       NaN         mouse   blue  Microsoft   \n",
       "19062      False         NaN       NaN         mouse   blue  Microsoft   \n",
       "19063      False         NaN       NaN         mouse   blue  Microsoft   \n",
       "\n",
       "       fatigue  month      price  trend  promo  \n",
       "0            0     11  29.753306      0      0  \n",
       "1            0     11  29.371297      0      0  \n",
       "2            0     11  29.201503      0      0  \n",
       "3            0     11  28.617031      0      0  \n",
       "4            0     11  29.817655      0      0  \n",
       "...        ...    ...        ...    ...    ...  \n",
       "19059       52      8  16.990000      3      0  \n",
       "19060       53      9  16.990000      3      0  \n",
       "19061       54      9  16.990000      3      0  \n",
       "19062       57     10  16.990000      3      0  \n",
       "19063       59     10  16.990000      3      0  \n",
       "\n",
       "[19064 rows x 17 columns]"
      ]
     },
     "execution_count": 4,
     "metadata": {},
     "output_type": "execute_result"
    }
   ],
   "source": [
    "df = pd.read_csv('/Users/arthur.pentecoste/ProjectRA/Demand_Paper/Code_DAC/33_cleaned_data.csv')\n",
    "df['trend'] = df.week // 1000 - 2013\n",
    "df['promo'] = df.promoFlag.astype('int')\n",
    "df"
   ]
  },
  {
   "cell_type": "code",
   "execution_count": 5,
   "metadata": {
    "colab": {
     "base_uri": "https://localhost:8080/",
     "height": 34
    },
    "colab_type": "code",
    "executionInfo": {
     "elapsed": 362,
     "status": "ok",
     "timestamp": 1588345770931,
     "user": {
      "displayName": "Paul-Emile Gras",
      "photoUrl": "https://lh3.googleusercontent.com/a-/AOh14Giun006VpfVDRCMkatdIZ4QMJQ93cuayK9VMSKVPw=s64",
      "userId": "16931926333659806768"
     },
     "user_tz": 240
    },
    "id": "PPnP2n5F8Sz5",
    "outputId": "a560b528-2c2a-437a-92ed-e56f2cf6306e"
   },
   "outputs": [
    {
     "data": {
      "text/plain": [
       "array([11, 12,  1,  2,  3,  4,  5,  6,  7,  8,  9, 10])"
      ]
     },
     "execution_count": 5,
     "metadata": {},
     "output_type": "execute_result"
    }
   ],
   "source": [
    "df.month.unique()"
   ]
  },
  {
   "cell_type": "code",
   "execution_count": 6,
   "metadata": {
    "colab": {
     "base_uri": "https://localhost:8080/",
     "height": 390
    },
    "colab_type": "code",
    "executionInfo": {
     "elapsed": 281,
     "status": "ok",
     "timestamp": 1588345771718,
     "user": {
      "displayName": "Paul-Emile Gras",
      "photoUrl": "https://lh3.googleusercontent.com/a-/AOh14Giun006VpfVDRCMkatdIZ4QMJQ93cuayK9VMSKVPw=s64",
      "userId": "16931926333659806768"
     },
     "user_tz": 240
    },
    "id": "W2MBwuJk8Sz8",
    "outputId": "1b524421-ba23-4b28-97b7-47a3912313b0"
   },
   "outputs": [
    {
     "data": {
      "text/plain": [
       "Index(['sku', 'class', 'week', 'desc', 'units', 'revenue', 'promoFlag',\n",
       "       'promoPrice', 'forecast', 'fatigue', 'price', 'trend', 'promo',\n",
       "       'functionality_CD sleeves', 'functionality_CD spindle',\n",
       "       'functionality_cloud storage', 'functionality_dimmer',\n",
       "       'functionality_external dvd', 'functionality_flash drive',\n",
       "       'functionality_flash memory', 'functionality_hard drive',\n",
       "       'functionality_headset', 'functionality_keyboard',\n",
       "       'functionality_keyboard & mouse', 'functionality_mouse',\n",
       "       'functionality_switch', 'functionality_tracker', 'functionality_webcam',\n",
       "       'functionality_wristband', 'color_black', 'color_blue',\n",
       "       'color_burgundy', 'color_green', 'color_grey', 'color_harlequin',\n",
       "       'color_metal', 'color_multicolor', 'color_none', 'color_none ',\n",
       "       'color_pink', 'color_purple', 'color_red', 'color_silver', 'color_teal',\n",
       "       'color_violet', 'color_white', 'vendor_Belkin', 'vendor_Fitbit',\n",
       "       'vendor_HP', 'vendor_Lexar', 'vendor_Logitech', 'vendor_Lutron',\n",
       "       'vendor_Memorex', 'vendor_Microsoft', 'vendor_PNY', 'vendor_SanDisk',\n",
       "       'vendor_Seagate', 'vendor_Staples', 'vendor_Toshiba', 'vendor_Verbatim',\n",
       "       'vendor_WD', 'month_1', 'month_2', 'month_3', 'month_4', 'month_5',\n",
       "       'month_6', 'month_7', 'month_8', 'month_9', 'month_10', 'month_11',\n",
       "       'month_12'],\n",
       "      dtype='object')"
      ]
     },
     "execution_count": 6,
     "metadata": {},
     "output_type": "execute_result"
    }
   ],
   "source": [
    "data = pd.get_dummies(data=df, columns=['functionality','color','vendor','month'])\n",
    "data.columns"
   ]
  },
  {
   "cell_type": "code",
   "execution_count": 7,
   "metadata": {
    "colab": {},
    "colab_type": "code",
    "id": "aqxFsYb58S0B"
   },
   "outputs": [],
   "source": [
    "skuSet = df.sku.unique()\n",
    "skuData = {}\n",
    "colnames = list(data.columns)\n",
    "for i in skuSet:\n",
    "    df_i = data[data.sku == i]\n",
    "    skuData[i] = {'X': df_i[colnames[9:]].values,\n",
    "                  'y': df_i.units.values}"
   ]
  },
  {
   "cell_type": "code",
   "execution_count": 8,
   "metadata": {
    "colab": {
     "base_uri": "https://localhost:8080/",
     "height": 34
    },
    "colab_type": "code",
    "executionInfo": {
     "elapsed": 317,
     "status": "ok",
     "timestamp": 1586826304145,
     "user": {
      "displayName": "Paul-Emile Gras",
      "photoUrl": "https://lh3.googleusercontent.com/a-/AOh14Giun006VpfVDRCMkatdIZ4QMJQ93cuayK9VMSKVPw=s64",
      "userId": "16931926333659806768"
     },
     "user_tz": 240
    },
    "id": "R4zh5-z78S0E",
    "outputId": "7b9444ec-c571-4307-8a99-81a47a21c58f"
   },
   "outputs": [
    {
     "data": {
      "text/plain": [
       "147"
      ]
     },
     "execution_count": 8,
     "metadata": {},
     "output_type": "execute_result"
    }
   ],
   "source": [
    "skuSet.size"
   ]
  },
  {
   "cell_type": "markdown",
   "metadata": {
    "colab_type": "text",
    "id": "S_NKPO1bBUYV"
   },
   "source": [
    "# Data preparation and linear regressions (OLS models)"
   ]
  },
  {
   "cell_type": "markdown",
   "metadata": {
    "colab_type": "text",
    "id": "7nt2Hr5b8S0H"
   },
   "source": [
    "## Decentralized"
   ]
  },
  {
   "cell_type": "code",
   "execution_count": 9,
   "metadata": {
    "colab": {
     "base_uri": "https://localhost:8080/",
     "height": 70
    },
    "colab_type": "code",
    "executionInfo": {
     "elapsed": 707,
     "status": "ok",
     "timestamp": 1586826309755,
     "user": {
      "displayName": "Paul-Emile Gras",
      "photoUrl": "https://lh3.googleusercontent.com/a-/AOh14Giun006VpfVDRCMkatdIZ4QMJQ93cuayK9VMSKVPw=s64",
      "userId": "16931926333659806768"
     },
     "user_tz": 240
    },
    "id": "cLatdMhW8S0I",
    "outputId": "96d134e1-7bee-44f4-b0fd-9741f21fa371"
   },
   "outputs": [
    {
     "name": "stdout",
     "output_type": "stream",
     "text": [
      "R2: 0.3548464172551853\n",
      "MSE: 72992.09233816856\n",
      "Number of coeff: 9408\n"
     ]
    }
   ],
   "source": [
    "# testing data dictionary\n",
    "X_dict = {}\n",
    "y_dict = {}\n",
    "\n",
    "skuModels = {}\n",
    "y_pred = []\n",
    "y_test = []\n",
    "y_train = []\n",
    "\n",
    "\n",
    "train_size = 0\n",
    "test_size = 0\n",
    "range_dict = {}\n",
    "row_train = 0\n",
    "row_test = 0\n",
    "\n",
    "for i in skuSet:\n",
    "    X_train_i, X_test_i, y_train_i, y_test_i = train_test_split(\n",
    "          skuData[i]['X'], skuData[i]['y'], test_size = 0.33, random_state = 5 )\n",
    "    \n",
    "    X_dict[i] = {'train': X_train_i, 'test': X_test_i}\n",
    "    y_dict[i] = {'train': y_train_i, 'test': y_test_i}\n",
    "    \n",
    "    train_size += y_train_i.size\n",
    "    test_size += y_test_i.size\n",
    "    range_dict[i] = {'train': (row_train, row_train + y_train_i.size), \n",
    "                     'test':  (row_test, row_test + y_test_i.size) }\n",
    "    \n",
    "    row_train += y_train_i.size\n",
    "    row_test += y_test_i.size\n",
    "    \n",
    "    model_i = OLS(y_train_i, X_train_i, hasconst = False)\n",
    "    skuModels[i] = model_i.fit()\n",
    "    y_pred += list(skuModels[i].predict(X_test_i))\n",
    "    y_test += list(y_test_i)\n",
    "    y_train += list(y_train_i)\n",
    "\n",
    "y_train = np.array(y_train)\n",
    "y_test = np.array(y_test)\n",
    "\n",
    "print('R2:',r2_score(y_test, np.array(y_pred)))\n",
    "print('MSE:', mean_squared_error(y_test, np.array(y_pred)))\n",
    "print('Number of coeff:', X_train_i.shape[1]*147)\n",
    "\n"
   ]
  },
  {
   "cell_type": "markdown",
   "metadata": {
    "colab_type": "text",
    "id": "z9WTipT88S0Q"
   },
   "source": [
    "## Centralized"
   ]
  },
  {
   "cell_type": "code",
   "execution_count": 10,
   "metadata": {
    "colab": {
     "base_uri": "https://localhost:8080/",
     "height": 52
    },
    "colab_type": "code",
    "executionInfo": {
     "elapsed": 492,
     "status": "ok",
     "timestamp": 1586826312583,
     "user": {
      "displayName": "Paul-Emile Gras",
      "photoUrl": "https://lh3.googleusercontent.com/a-/AOh14Giun006VpfVDRCMkatdIZ4QMJQ93cuayK9VMSKVPw=s64",
      "userId": "16931926333659806768"
     },
     "user_tz": 240
    },
    "id": "1qSMiium8S0R",
    "outputId": "3b3668c0-489a-4ca7-f287-f39cbb0d8375"
   },
   "outputs": [
    {
     "name": "stdout",
     "output_type": "stream",
     "text": [
      "0.16262763426116278\n",
      "MSE: 94739.55144354519\n"
     ]
    }
   ],
   "source": [
    "X_cen_train = X_dict[skuSet[0]]['train'] \n",
    "X_cen_test = X_dict[skuSet[0]]['test']\n",
    "\n",
    "for sku in skuSet[1:]:\n",
    "    X_cen_train = np.concatenate((X_cen_train, X_dict[sku]['train']), axis = 0)\n",
    "    X_cen_test = np.concatenate((X_cen_test, X_dict[sku]['test']), axis = 0)\n",
    "\n",
    "model_cen = LinearRegression(fit_intercept=False).fit(X_cen_train, y_train)\n",
    "print(r2_score(y_test, model_cen.predict(X_cen_test)))  \n",
    "print('MSE:', mean_squared_error(y_test, model_cen.predict(X_cen_test)))"
   ]
  },
  {
   "cell_type": "markdown",
   "metadata": {
    "colab_type": "text",
    "id": "pep1xBvk8S0X"
   },
   "source": [
    "# DAC"
   ]
  },
  {
   "cell_type": "markdown",
   "metadata": {
    "colab_type": "text",
    "id": "KdzRiSTcBK62"
   },
   "source": [
    "## Fonction learn_structure"
   ]
  },
  {
   "cell_type": "code",
   "execution_count": 11,
   "metadata": {
    "colab": {},
    "colab_type": "code",
    "id": "8vbw9TA38Sz_"
   },
   "outputs": [],
   "source": [
    "def learn_structure(theta = 0.01, \n",
    "                    upp = 0.9, \n",
    "                    low = 0.1,\n",
    "                    num_clusters = 9,\n",
    "                    print_structure = False):\n",
    "    \n",
    "    d = skuData[skuSet[0]]['X'].shape[1]\n",
    "    n = skuSet.size\n",
    "    aggre_level = []\n",
    "    clus_columns = []\n",
    "    n_cols_alg = 0\n",
    "    z = num_clusters\n",
    "    all_coeff = np.zeros((n,d))\n",
    "    all_coeff[0,:] = skuModels[skuSet[0]].params\n",
    "\n",
    "\n",
    "    for j in range(d):\n",
    "\n",
    "        # a n-1 vector recording if two betas have the same mean\n",
    "        test_j = np.zeros(n-1)\n",
    "\n",
    "        for i in range(1,n):\n",
    "            sku = skuSet[i]\n",
    "            all_coeff[i,j] = skuModels[sku].params[j]\n",
    "\n",
    "            z_stat = ( np.abs(skuModels[skuSet[0]].params[j] - skuModels[sku].params[j]) / \n",
    "                      np.sqrt(np.square(skuModels[skuSet[0]].bse[j]) + np.square(skuModels[sku].bse[j])) )\n",
    "            p_value = 1 - norm.cdf(z_stat)\n",
    "            if p_value >= theta:\n",
    "                test_j[i-1] = 1\n",
    "\n",
    "        if print_structure:\n",
    "            print('Feature:', colnames[j+9])\n",
    "            print('Ratio:', np.mean(test_j))\n",
    "\n",
    "        if np.sum(test_j) >= upp*(n-1):\n",
    "            aggre_level.append('dept')\n",
    "            n_cols_alg += 1\n",
    "\n",
    "        elif np.sum(test_j) <= low*(n-1):\n",
    "            aggre_level.append('sku')\n",
    "            n_cols_alg += n\n",
    "\n",
    "        else:\n",
    "            aggre_level.append('clus')\n",
    "            clus_columns.append(j)\n",
    "            n_cols_alg += z\n",
    "\n",
    "        if print_structure:\n",
    "            print(aggre_level[-1])\n",
    "            print()\n",
    "\n",
    "    if len(clus_columns) > 0:\n",
    "        X_clus = all_coeff[:, clus_columns]\n",
    "        kmeans = KMeans(n_clusters=z, random_state=0).fit(X_clus)\n",
    "\n",
    "    X_alg_train = np.zeros((train_size, n_cols_alg))\n",
    "    X_alg_test = np.zeros((test_size, n_cols_alg))\n",
    "\n",
    "    count = 0\n",
    "    for i in range(d):\n",
    "        if aggre_level[i] == 'dept':\n",
    "\n",
    "            for sku in skuSet:\n",
    "                # find the corresponding range\n",
    "                idx_train = range_dict[sku]['train']\n",
    "                idx_test = range_dict[sku]['test']\n",
    "\n",
    "                # stack the data\n",
    "                X_alg_train[idx_train[0]:idx_train[1], count] = X_dict[sku]['train'][:,i]\n",
    "                X_alg_test[idx_test[0]:idx_test[1], count] = X_dict[sku]['test'][:,i]\n",
    "\n",
    "            count += 1\n",
    "\n",
    "        elif aggre_level[i] == 'clus':\n",
    "\n",
    "            for j in range(z):\n",
    "                # the indices of items in cluster j\n",
    "                clus_items = list(np.where(kmeans.labels_ == j)[0])\n",
    "                for idx in clus_items:\n",
    "                    sku = skuSet[idx]\n",
    "                    # find the corresponding range\n",
    "                    idx_train = range_dict[sku]['train']\n",
    "                    idx_test = range_dict[sku]['test']\n",
    "\n",
    "                    # stack the data\n",
    "                    X_alg_train[idx_train[0]:idx_train[1], count] = X_dict[sku]['train'][:,i]\n",
    "                    X_alg_test[idx_test[0]:idx_test[1], count] = X_dict[sku]['test'][:,i]\n",
    "\n",
    "\n",
    "                count += 1\n",
    "        else:\n",
    "            for sku in skuSet:\n",
    "                # find the corresponding range\n",
    "                idx_train = range_dict[sku]['train']\n",
    "                idx_test = range_dict[sku]['test']\n",
    "\n",
    "                # stack the data\n",
    "                X_alg_train[idx_train[0]:idx_train[1], count] = X_dict[sku]['train'][:,i]\n",
    "                X_alg_test[idx_test[0]:idx_test[1], count] = X_dict[sku]['test'][:,i]\n",
    "\n",
    "                count += 1\n",
    "        \n",
    "    \n",
    "    return X_alg_train, X_alg_test\n",
    "\n",
    "\n",
    "\n",
    "def mape(y_true, y_pred): \n",
    "\n",
    "    return np.median(np.abs((y_true - y_pred) / y_true))"
   ]
  },
  {
   "cell_type": "markdown",
   "metadata": {
    "colab_type": "text",
    "id": "WacfVyimWafB"
   },
   "source": [
    "## Base model"
   ]
  },
  {
   "cell_type": "code",
   "execution_count": 12,
   "metadata": {
    "colab": {
     "base_uri": "https://localhost:8080/",
     "height": 123
    },
    "colab_type": "code",
    "executionInfo": {
     "elapsed": 110404,
     "status": "ok",
     "timestamp": 1586826433654,
     "user": {
      "displayName": "Paul-Emile Gras",
      "photoUrl": "https://lh3.googleusercontent.com/a-/AOh14Giun006VpfVDRCMkatdIZ4QMJQ93cuayK9VMSKVPw=s64",
      "userId": "16931926333659806768"
     },
     "user_tz": 240
    },
    "id": "RR_H1xS58S0Y",
    "outputId": "fd693e14-9f13-47fa-9646-0993e9d45ff3"
   },
   "outputs": [
    {
     "name": "stdout",
     "output_type": "stream",
     "text": [
      "Fitting model...\n",
      "Parameters: 0.8 0.1 4\n",
      "R2 score: 0.35500518753160026\n",
      "MSE: 72974.12921281888\n",
      "Number of coeff: 5478\n",
      "MAPE: 1.3419361943783967\n"
     ]
    }
   ],
   "source": [
    "z = 4\n",
    "upp, low = 0.8, 0.1\n",
    "X_alg_train, X_alg_test = learn_structure(upp = 0.8, low = 0.1, \n",
    "                                          num_clusters = z, print_structure = False)\n",
    "# When print structure use seed = 2\n",
    "print('Fitting model...')\n",
    "\n",
    "scaler = MinMaxScaler()\n",
    "#X_alg_train = scaler.fit_transform(X_alg_train)\n",
    "#X_alg_test = scaler.transform(X_alg_test)\n",
    "model_0 = LinearRegression().fit(X_alg_train, y_train)\n",
    "#model_1 = Lasso(fit_intercept = False, alpha = 0.0001).fit(X_alg_train, y_train)\n",
    "print('Parameters:', upp, low, z) \n",
    "print('R2 score:', r2_score(y_test, model_0.predict(X_alg_test)))\n",
    "print('MSE:', mean_squared_error(y_test, model_0.predict(X_alg_test)))\n",
    "print('Number of coeff:', X_alg_train.shape[1])\n",
    "print('MAPE:', mape(y_test, model_0.predict(X_alg_test)))"
   ]
  },
  {
   "cell_type": "code",
   "execution_count": 13,
   "metadata": {
    "colab": {
     "base_uri": "https://localhost:8080/",
     "height": 158
    },
    "colab_type": "code",
    "executionInfo": {
     "elapsed": 404,
     "status": "ok",
     "timestamp": 1586826434065,
     "user": {
      "displayName": "Paul-Emile Gras",
      "photoUrl": "https://lh3.googleusercontent.com/a-/AOh14Giun006VpfVDRCMkatdIZ4QMJQ93cuayK9VMSKVPw=s64",
      "userId": "16931926333659806768"
     },
     "user_tz": 240
    },
    "id": "3qvAtAnF8S0a",
    "outputId": "d6e92ee7-031d-429d-c699-6737e8ac4e43"
   },
   "outputs": [
    {
     "name": "stdout",
     "output_type": "stream",
     "text": [
      "19064\n",
      "108.11356483424255\n",
      "108.11356483424255\n",
      "377.44829018995057\n",
      "42.915910211040874\n",
      "38.803359572724155\n",
      "0.3126835921107847\n"
     ]
    },
    {
     "data": {
      "text/plain": [
       "0.042050977236539944"
      ]
     },
     "execution_count": 13,
     "metadata": {},
     "output_type": "execute_result"
    }
   ],
   "source": [
    "print(X_alg_train.shape[0] + X_alg_test.shape[0])\n",
    "print((np.sum(y_train) + np.sum(y_test)) / (y_train.size + y_test.size))\n",
    "print(np.mean(data.units))\n",
    "print(np.std(data.units))\n",
    "print(np.mean(data.price))\n",
    "print(np.std(data.price))\n",
    "print(np.mean(data.promoFlag))\n",
    "1 - (np.mean(data.price[data.promoFlag]) / np.mean(data.price[~data.promoFlag]))"
   ]
  },
  {
   "cell_type": "markdown",
   "metadata": {
    "colab_type": "text",
    "id": "ojIPqdRfWdAO"
   },
   "source": [
    "## Selection of hyperparameters"
   ]
  },
  {
   "cell_type": "code",
   "execution_count": 0,
   "metadata": {
    "colab": {
     "base_uri": "https://localhost:8080/",
     "height": 105
    },
    "colab_type": "code",
    "executionInfo": {
     "elapsed": 21,
     "status": "ok",
     "timestamp": 1585964046609,
     "user": {
      "displayName": "Paul-Emile Gras",
      "photoUrl": "https://lh3.googleusercontent.com/a-/AOh14Giun006VpfVDRCMkatdIZ4QMJQ93cuayK9VMSKVPw=s64",
      "userId": "16931926333659806768"
     },
     "user_tz": 240
    },
    "id": "vDl9xYl58S0d",
    "outputId": "9fa3fd4b-a71b-43b8-882f-ee17a620cdd3"
   },
   "outputs": [
    {
     "name": "stdout",
     "output_type": "stream",
     "text": [
      "Fitting model 1 /63\n",
      "  Parameters: 0.7 0.1 4\n",
      "  R2 score: 0.33244084125139073\n",
      "  MAPE: 1.6658421566611843\n",
      "Fitting model 2 /63\n"
     ]
    }
   ],
   "source": [
    "i=0\n",
    "params=[]\n",
    "maximum1=0\n",
    "\n",
    "for upp in [0.7,0.8,0.9]:\n",
    "    for low in [0.1,0.2,0.3]:\n",
    "        for z in [4,5,6,7,8,9,10]:\n",
    "          i+=1\n",
    "          X_alg_train, X_alg_test = learn_structure(upp = upp, low = low, num_clusters = z)\n",
    "          print('Fitting model',i,'/63')\n",
    "          model_0 = LinearRegression(fit_intercept=False).fit(X_alg_train, y_train)\n",
    "          print('  Parameters:', upp, low, z)\n",
    "          score=r2_score(y_test, model_0.predict(X_alg_test))\n",
    "          print('  R2 score:', score)\n",
    "          print('  MAPE:', mape(y_test, model_0.predict(X_alg_test)))\n",
    "\n",
    "          if score>maximum1:\n",
    "            params = [upp,low,z]\n",
    "            maximum1 = score\n",
    "\n",
    "print('\\nBest Model:')\n",
    "print('parameters:',params)\n",
    "print('R2:',maximum1)  "
   ]
  },
  {
   "cell_type": "code",
   "execution_count": 14,
   "metadata": {
    "colab": {
     "base_uri": "https://localhost:8080/",
     "height": 265
    },
    "colab_type": "code",
    "id": "enqwdIWPPOZa",
    "outputId": "75749caf-257d-4210-9f4e-5c46ae2d1832"
   },
   "outputs": [
    {
     "name": "stdout",
     "output_type": "stream",
     "text": [
      "Fitting model 1 /63\n",
      "Fitting model 2 /63\n",
      "Fitting model 3 /63\n",
      "Fitting model 4 /63\n",
      "Fitting model 5 /63\n",
      "Fitting model 6 /63\n",
      "Fitting model 7 /63\n",
      "Fitting model 8 /63\n",
      "Fitting model 9 /63\n",
      "Fitting model 10 /63\n",
      "Fitting model 11 /63\n",
      "Fitting model 12 /63\n",
      "Fitting model 13 /63\n",
      "Fitting model 14 /63\n",
      "Fitting model 15 /63\n",
      "Fitting model 16 /63\n",
      "Fitting model 17 /63\n",
      "Fitting model 18 /63\n",
      "Fitting model 19 /63\n",
      "Fitting model 20 /63\n",
      "Fitting model 21 /63\n",
      "Fitting model 22 /63\n",
      "Fitting model 23 /63\n",
      "Fitting model 24 /63\n",
      "Fitting model 25 /63\n",
      "Fitting model 26 /63\n",
      "Fitting model 27 /63\n",
      "Fitting model 28 /63\n",
      "Fitting model 29 /63\n",
      "Fitting model 30 /63\n",
      "Fitting model 31 /63\n",
      "Fitting model 32 /63\n",
      "Fitting model 33 /63\n",
      "Fitting model 34 /63\n",
      "Fitting model 35 /63\n",
      "Fitting model 36 /63\n",
      "Fitting model 37 /63\n",
      "Fitting model 38 /63\n",
      "Fitting model 39 /63\n",
      "Fitting model 40 /63\n",
      "Fitting model 41 /63\n",
      "Fitting model 42 /63\n",
      "Fitting model 43 /63\n",
      "Fitting model 44 /63\n",
      "Fitting model 45 /63\n",
      "Fitting model 46 /63\n",
      "Fitting model 47 /63\n",
      "Fitting model 48 /63\n",
      "Fitting model 49 /63\n",
      "Fitting model 50 /63\n",
      "Fitting model 51 /63\n",
      "Fitting model 52 /63\n",
      "Fitting model 53 /63\n",
      "Fitting model 54 /63\n",
      "Fitting model 55 /63\n",
      "Fitting model 56 /63\n",
      "Fitting model 57 /63\n"
     ]
    },
    {
     "name": "stderr",
     "output_type": "stream",
     "text": [
      "ERROR:root:Internal Python error in the inspect module.\n",
      "Below is the traceback from this internal error.\n",
      "\n"
     ]
    },
    {
     "name": "stdout",
     "output_type": "stream",
     "text": [
      "Traceback (most recent call last):\n",
      "  File \"/Users/arthur.pentecoste/opt/anaconda3/lib/python3.7/site-packages/IPython/core/interactiveshell.py\", line 3326, in run_code\n",
      "    exec(code_obj, self.user_global_ns, self.user_ns)\n",
      "  File \"<ipython-input-14-d8037c1d18f4>\", line 12, in <module>\n",
      "    scores=cross_val_score(estimator=model_0, X=X_alg_train, y=y_train, cv=5, scoring='r2')\n",
      "  File \"/Users/arthur.pentecoste/opt/anaconda3/lib/python3.7/site-packages/sklearn/model_selection/_validation.py\", line 390, in cross_val_score\n",
      "    error_score=error_score)\n",
      "  File \"/Users/arthur.pentecoste/opt/anaconda3/lib/python3.7/site-packages/sklearn/model_selection/_validation.py\", line 236, in cross_validate\n",
      "    for train, test in cv.split(X, y, groups))\n",
      "  File \"/Users/arthur.pentecoste/opt/anaconda3/lib/python3.7/site-packages/joblib/parallel.py\", line 1007, in __call__\n",
      "    while self.dispatch_one_batch(iterator):\n",
      "  File \"/Users/arthur.pentecoste/opt/anaconda3/lib/python3.7/site-packages/joblib/parallel.py\", line 835, in dispatch_one_batch\n",
      "    self._dispatch(tasks)\n",
      "  File \"/Users/arthur.pentecoste/opt/anaconda3/lib/python3.7/site-packages/joblib/parallel.py\", line 754, in _dispatch\n",
      "    job = self._backend.apply_async(batch, callback=cb)\n",
      "  File \"/Users/arthur.pentecoste/opt/anaconda3/lib/python3.7/site-packages/joblib/_parallel_backends.py\", line 209, in apply_async\n",
      "    result = ImmediateResult(func)\n",
      "  File \"/Users/arthur.pentecoste/opt/anaconda3/lib/python3.7/site-packages/joblib/_parallel_backends.py\", line 590, in __init__\n",
      "    self.results = batch()\n",
      "  File \"/Users/arthur.pentecoste/opt/anaconda3/lib/python3.7/site-packages/joblib/parallel.py\", line 256, in __call__\n",
      "    for func, args, kwargs in self.items]\n",
      "  File \"/Users/arthur.pentecoste/opt/anaconda3/lib/python3.7/site-packages/joblib/parallel.py\", line 256, in <listcomp>\n",
      "    for func, args, kwargs in self.items]\n",
      "  File \"/Users/arthur.pentecoste/opt/anaconda3/lib/python3.7/site-packages/sklearn/model_selection/_validation.py\", line 515, in _fit_and_score\n",
      "    estimator.fit(X_train, y_train, **fit_params)\n",
      "  File \"/Users/arthur.pentecoste/opt/anaconda3/lib/python3.7/site-packages/sklearn/linear_model/_base.py\", line 533, in fit\n",
      "    linalg.lstsq(X, y)\n",
      "  File \"/Users/arthur.pentecoste/opt/anaconda3/lib/python3.7/site-packages/scipy/linalg/basic.py\", line 1216, in lstsq\n",
      "    iwork, cond, False, False)\n",
      "KeyboardInterrupt\n",
      "\n",
      "During handling of the above exception, another exception occurred:\n",
      "\n",
      "Traceback (most recent call last):\n",
      "  File \"/Users/arthur.pentecoste/opt/anaconda3/lib/python3.7/site-packages/IPython/core/interactiveshell.py\", line 2040, in showtraceback\n",
      "    stb = value._render_traceback_()\n",
      "AttributeError: 'KeyboardInterrupt' object has no attribute '_render_traceback_'\n",
      "\n",
      "During handling of the above exception, another exception occurred:\n",
      "\n",
      "Traceback (most recent call last):\n",
      "  File \"/Users/arthur.pentecoste/opt/anaconda3/lib/python3.7/site-packages/IPython/core/ultratb.py\", line 1101, in get_records\n",
      "    return _fixed_getinnerframes(etb, number_of_lines_of_context, tb_offset)\n",
      "  File \"/Users/arthur.pentecoste/opt/anaconda3/lib/python3.7/site-packages/IPython/core/ultratb.py\", line 319, in wrapped\n",
      "    return f(*args, **kwargs)\n",
      "  File \"/Users/arthur.pentecoste/opt/anaconda3/lib/python3.7/site-packages/IPython/core/ultratb.py\", line 353, in _fixed_getinnerframes\n",
      "    records = fix_frame_records_filenames(inspect.getinnerframes(etb, context))\n",
      "  File \"/Users/arthur.pentecoste/opt/anaconda3/lib/python3.7/inspect.py\", line 1502, in getinnerframes\n",
      "    frameinfo = (tb.tb_frame,) + getframeinfo(tb, context)\n",
      "  File \"/Users/arthur.pentecoste/opt/anaconda3/lib/python3.7/inspect.py\", line 1460, in getframeinfo\n",
      "    filename = getsourcefile(frame) or getfile(frame)\n",
      "  File \"/Users/arthur.pentecoste/opt/anaconda3/lib/python3.7/inspect.py\", line 696, in getsourcefile\n",
      "    if getattr(getmodule(object, filename), '__loader__', None) is not None:\n",
      "  File \"/Users/arthur.pentecoste/opt/anaconda3/lib/python3.7/inspect.py\", line 725, in getmodule\n",
      "    file = getabsfile(object, _filename)\n",
      "  File \"/Users/arthur.pentecoste/opt/anaconda3/lib/python3.7/inspect.py\", line 709, in getabsfile\n",
      "    return os.path.normcase(os.path.abspath(_filename))\n",
      "  File \"/Users/arthur.pentecoste/opt/anaconda3/lib/python3.7/posixpath.py\", line 383, in abspath\n",
      "    cwd = os.getcwd()\n",
      "FileNotFoundError: [Errno 2] No such file or directory\n"
     ]
    },
    {
     "ename": "KeyboardInterrupt",
     "evalue": "",
     "output_type": "error",
     "traceback": [
      "\u001b[0;31m---------------------------------------------------------------------------\u001b[0m"
     ]
    }
   ],
   "source": [
    "i=0\n",
    "params=[]\n",
    "maximum1=0\n",
    "\n",
    "for upp in [0.7,0.8,0.9]:\n",
    "    for low in [0.1,0.2,0.3]:\n",
    "        for z in [4,5,6,7,8,9,10]:\n",
    "          i+=1\n",
    "          X_alg_train, X_alg_test = learn_structure(upp = upp, low = low, num_clusters = z)\n",
    "          print('Fitting model',i,'/63')\n",
    "          model_0 = LinearRegression(fit_intercept=False).fit(X_alg_train, y_train)\n",
    "          scores=cross_val_score(estimator=model_0, X=X_alg_train, y=y_train, cv=5, scoring='r2')\n",
    "          score=np.average(scores)\n",
    "          if score>maximum1:\n",
    "            param = [upp,low,z]\n",
    "            maximum1 = score\n",
    "\n",
    "print('\\nBest Model:')\n",
    "print('parameters:',params)\n",
    "print('R2:',maximum1)  "
   ]
  },
  {
   "cell_type": "markdown",
   "metadata": {
    "colab_type": "text",
    "id": "Fh56E3bA8WU8"
   },
   "source": [
    "## Final Model"
   ]
  },
  {
   "cell_type": "code",
   "execution_count": null,
   "metadata": {
    "colab": {
     "base_uri": "https://localhost:8080/",
     "height": 105
    },
    "colab_type": "code",
    "executionInfo": {
     "elapsed": 116451,
     "status": "ok",
     "timestamp": 1585175362790,
     "user": {
      "displayName": "Paul-Emile Gras",
      "photoUrl": "https://lh3.googleusercontent.com/a-/AOh14Giun006VpfVDRCMkatdIZ4QMJQ93cuayK9VMSKVPw=s64",
      "userId": "16931926333659806768"
     },
     "user_tz": 240
    },
    "id": "x3Xxz_tu8VUa",
    "outputId": "54dc651b-fa6a-404f-ca91-b1690b915bbd"
   },
   "outputs": [],
   "source": [
    "z = 10\n",
    "upp, low = 0.9, 0.2\n",
    "X_alg_train, X_alg_test = learn_structure(upp = 0.8, low = 0.1, \n",
    "                                          num_clusters = z, print_structure = False)\n",
    "\n",
    "#scaler = MinMaxScaler()\n",
    "#X_alg_train = scaler.fit_transform(X_alg_train)\n",
    "#X_alg_test = scaler.transform(X_alg_test)\n",
    "model_0 = LinearRegression().fit(X_alg_train, y_train)\n",
    "\n",
    "print('Parameters:', upp, low, z) \n",
    "print('R2 score:', r2_score(y_test, model_0.predict(X_alg_test)))\n",
    "print('MSE:', mean_squared_error(y_test, model_0.predict(X_alg_test)))\n",
    "print('Number of coeff:', X_alg_train.shape[1])\n",
    "print('MAPE:', mape(y_test, model_0.predict(X_alg_test)))"
   ]
  },
  {
   "cell_type": "markdown",
   "metadata": {
    "colab_type": "text",
    "id": "s4i8Lmm2_0lK"
   },
   "source": [
    "# Clustering"
   ]
  },
  {
   "cell_type": "markdown",
   "metadata": {
    "colab_type": "text",
    "id": "BTD6ie5M8S0U"
   },
   "source": [
    "## K-Means"
   ]
  },
  {
   "cell_type": "markdown",
   "metadata": {
    "colab_type": "text",
    "id": "g7oyLB-x1Ncw"
   },
   "source": [
    "### Base model"
   ]
  },
  {
   "cell_type": "code",
   "execution_count": 0,
   "metadata": {
    "colab": {
     "base_uri": "https://localhost:8080/",
     "height": 52
    },
    "colab_type": "code",
    "executionInfo": {
     "elapsed": 1236,
     "status": "ok",
     "timestamp": 1586283039652,
     "user": {
      "displayName": "Paul-Emile Gras",
      "photoUrl": "https://lh3.googleusercontent.com/a-/AOh14Giun006VpfVDRCMkatdIZ4QMJQ93cuayK9VMSKVPw=s64",
      "userId": "16931926333659806768"
     },
     "user_tz": 240
    },
    "id": "5nPwpHt68S0U",
    "outputId": "44a27459-2980-4cfe-e9ab-c8dad60892d7"
   },
   "outputs": [
    {
     "name": "stdout",
     "output_type": "stream",
     "text": [
      "0.22768208216111396\n",
      "MSE: 87379.35009750379\n"
     ]
    }
   ],
   "source": [
    "z = 4\n",
    "d = skuData[skuSet[0]]['X'].shape[1] #d is the number of columns\n",
    "X_clus = np.zeros((skuSet.size, d))\n",
    "count = 0\n",
    "for sku in skuSet:\n",
    "    X_clus[count, :] = np.mean(X_dict[sku]['train'], axis = 0)\n",
    "    count += 1\n",
    "    \n",
    "kmeans = KMeans(n_clusters=z, random_state=0).fit(X_clus)\n",
    "\n",
    "X_clus_train = np.zeros((train_size, d*z))\n",
    "X_clus_test = np.zeros((test_size, d*z))\n",
    "\n",
    "count = 0\n",
    "for j in range(z):\n",
    "    # the indices of items in cluster j\n",
    "    clus_items = list(np.where(kmeans.labels_ == j)[0])\n",
    "    for idx in clus_items:\n",
    "        sku = skuSet[idx]\n",
    "        # find the corresponding range\n",
    "        idx_train = range_dict[sku]['train']\n",
    "        idx_test = range_dict[sku]['test']\n",
    "\n",
    "        # stack the data\n",
    "        X_clus_train[idx_train[0]:idx_train[1], count:count+d] = X_dict[sku]['train']\n",
    "        X_clus_test[idx_test[0]:idx_test[1], count:count+d] = X_dict[sku]['test']\n",
    "\n",
    "\n",
    "    count += d\n",
    "\n",
    "model_clus = LinearRegression(fit_intercept=False).fit(X_clus_train, y_train)\n",
    "print(r2_score(y_test, model_clus.predict(X_clus_test))) \n",
    "print('MSE:', mean_squared_error(y_test, model_clus.predict(X_clus_test)))"
   ]
  },
  {
   "cell_type": "code",
   "execution_count": 0,
   "metadata": {
    "colab": {
     "base_uri": "https://localhost:8080/",
     "height": 34
    },
    "colab_type": "code",
    "executionInfo": {
     "elapsed": 302,
     "status": "ok",
     "timestamp": 1585070688194,
     "user": {
      "displayName": "Paul-Emile Gras",
      "photoUrl": "https://lh3.googleusercontent.com/a-/AOh14Giun006VpfVDRCMkatdIZ4QMJQ93cuayK9VMSKVPw=s64",
      "userId": "16931926333659806768"
     },
     "user_tz": 240
    },
    "id": "bZ0wAFtbQ9tS",
    "outputId": "b9f47cf6-36a0-4d19-aac2-4ef959c6d21e"
   },
   "outputs": [
    {
     "data": {
      "text/plain": [
       "array([2., 3.])"
      ]
     },
     "execution_count": 14,
     "metadata": {
      "tags": []
     },
     "output_type": "execute_result"
    }
   ],
   "source": [
    "A=[[1,2],[3,4]]\n",
    "np.mean(A,axis=0) #moyenne sur la colonne"
   ]
  },
  {
   "cell_type": "code",
   "execution_count": 0,
   "metadata": {
    "colab": {
     "base_uri": "https://localhost:8080/",
     "height": 34
    },
    "colab_type": "code",
    "executionInfo": {
     "elapsed": 278,
     "status": "ok",
     "timestamp": 1585070689721,
     "user": {
      "displayName": "Paul-Emile Gras",
      "photoUrl": "https://lh3.googleusercontent.com/a-/AOh14Giun006VpfVDRCMkatdIZ4QMJQ93cuayK9VMSKVPw=s64",
      "userId": "16931926333659806768"
     },
     "user_tz": 240
    },
    "id": "-4zLEG6AQ96i",
    "outputId": "298d7ca9-3474-4d3a-9c00-6e2332945745"
   },
   "outputs": [
    {
     "data": {
      "text/plain": [
       "(147, 64)"
      ]
     },
     "execution_count": 15,
     "metadata": {
      "tags": []
     },
     "output_type": "execute_result"
    }
   ],
   "source": [
    "X_clus.shape #c'est du clustering sur les valeurs moyennes (pour toute une colonne, moyenne des valeurs des differents SKU)"
   ]
  },
  {
   "cell_type": "markdown",
   "metadata": {
    "colab_type": "text",
    "id": "gZxl5tcV1QKn"
   },
   "source": [
    "### Selection of number of clusters"
   ]
  },
  {
   "cell_type": "code",
   "execution_count": 0,
   "metadata": {
    "colab": {
     "base_uri": "https://localhost:8080/",
     "height": 87
    },
    "colab_type": "code",
    "executionInfo": {
     "elapsed": 5146,
     "status": "ok",
     "timestamp": 1586283047783,
     "user": {
      "displayName": "Paul-Emile Gras",
      "photoUrl": "https://lh3.googleusercontent.com/a-/AOh14Giun006VpfVDRCMkatdIZ4QMJQ93cuayK9VMSKVPw=s64",
      "userId": "16931926333659806768"
     },
     "user_tz": 240
    },
    "id": "GfBaCWwH1T_a",
    "outputId": "1c8e33a6-f47c-463b-a82e-733dd8f0cc72"
   },
   "outputs": [
    {
     "name": "stdout",
     "output_type": "stream",
     "text": [
      "\n",
      "Best Model:\n",
      "number of clusters: 9\n",
      "R2: 0.29619304827390514\n"
     ]
    }
   ],
   "source": [
    "num_clusters=0\n",
    "maximum1=0\n",
    "\n",
    "for z in range(2,10):\n",
    "  d = skuData[skuSet[0]]['X'].shape[1] #d is the number of columns\n",
    "  X_clus = np.zeros((skuSet.size, d))\n",
    "  count = 0\n",
    "  for sku in skuSet:\n",
    "    X_clus[count, :] = np.mean(X_dict[sku]['train'], axis = 0)\n",
    "    count += 1\n",
    "    \n",
    "  kmeans = KMeans(n_clusters=z, random_state=0).fit(X_clus)\n",
    "\n",
    "  X_clus_train = np.zeros((train_size, d*z))\n",
    "  X_clus_test = np.zeros((test_size, d*z))\n",
    "\n",
    "  count = 0\n",
    "  for j in range(z):\n",
    "    # the indices of items in cluster j\n",
    "    clus_items = list(np.where(kmeans.labels_ == j)[0])\n",
    "    for idx in clus_items:\n",
    "        sku = skuSet[idx]\n",
    "        # find the corresponding range\n",
    "        idx_train = range_dict[sku]['train']\n",
    "        idx_test = range_dict[sku]['test']\n",
    "\n",
    "        # stack the data\n",
    "        X_clus_train[idx_train[0]:idx_train[1], count:count+d] = X_dict[sku]['train']\n",
    "        X_clus_test[idx_test[0]:idx_test[1], count:count+d] = X_dict[sku]['test']\n",
    "\n",
    "    count += d\n",
    "\n",
    "  model_clus = LinearRegression(fit_intercept=False).fit(X_clus_train, y_train)\n",
    "  score=r2_score(y_test, model_clus.predict(X_clus_test))\n",
    "\n",
    "  if score>maximum1:\n",
    "    num_clusters=z\n",
    "    maximum1 = score\n",
    "\n",
    "print('\\nBest Model:')\n",
    "print('number of clusters:',num_clusters)\n",
    "print('R2:',maximum1)  "
   ]
  },
  {
   "cell_type": "markdown",
   "metadata": {
    "colab_type": "text",
    "id": "k46r6OrM2KJv"
   },
   "source": [
    "### Final Model"
   ]
  },
  {
   "cell_type": "code",
   "execution_count": 0,
   "metadata": {
    "colab": {
     "base_uri": "https://localhost:8080/",
     "height": 52
    },
    "colab_type": "code",
    "executionInfo": {
     "elapsed": 1477,
     "status": "ok",
     "timestamp": 1586283055769,
     "user": {
      "displayName": "Paul-Emile Gras",
      "photoUrl": "https://lh3.googleusercontent.com/a-/AOh14Giun006VpfVDRCMkatdIZ4QMJQ93cuayK9VMSKVPw=s64",
      "userId": "16931926333659806768"
     },
     "user_tz": 240
    },
    "id": "V7T5KO_52Mp_",
    "outputId": "08729bb4-af48-4b58-d662-d536f1155980"
   },
   "outputs": [
    {
     "name": "stdout",
     "output_type": "stream",
     "text": [
      "0.29619304827390514\n",
      "MSE: 79628.08140981212\n"
     ]
    }
   ],
   "source": [
    "z = 9\n",
    "d = skuData[skuSet[0]]['X'].shape[1] #d is the number of columns\n",
    "X_clus = np.zeros((skuSet.size, d))\n",
    "count = 0\n",
    "for sku in skuSet:\n",
    "    X_clus[count, :] = np.mean(X_dict[sku]['train'], axis = 0)\n",
    "    count += 1\n",
    "    \n",
    "kmeans = KMeans(n_clusters=z, random_state=0).fit(X_clus)\n",
    "\n",
    "X_clus_train = np.zeros((train_size, d*z))\n",
    "X_clus_test = np.zeros((test_size, d*z))\n",
    "\n",
    "count = 0\n",
    "for j in range(z):\n",
    "    # the indices of items in cluster j\n",
    "    clus_items = list(np.where(kmeans.labels_ == j)[0])\n",
    "    for idx in clus_items:\n",
    "        sku = skuSet[idx]\n",
    "        # find the corresponding range\n",
    "        idx_train = range_dict[sku]['train']\n",
    "        idx_test = range_dict[sku]['test']\n",
    "\n",
    "        # stack the data\n",
    "        X_clus_train[idx_train[0]:idx_train[1], count:count+d] = X_dict[sku]['train']\n",
    "        X_clus_test[idx_test[0]:idx_test[1], count:count+d] = X_dict[sku]['test']\n",
    "\n",
    "\n",
    "    count += d\n",
    "\n",
    "model_clus = LinearRegression(fit_intercept=False).fit(X_clus_train, y_train)\n",
    "print(r2_score(y_test, model_clus.predict(X_clus_test))) \n",
    "print('MSE:', mean_squared_error(y_test, model_clus.predict(X_clus_test)))"
   ]
  },
  {
   "cell_type": "code",
   "execution_count": 0,
   "metadata": {
    "colab": {
     "base_uri": "https://localhost:8080/",
     "height": 34
    },
    "colab_type": "code",
    "executionInfo": {
     "elapsed": 241,
     "status": "ok",
     "timestamp": 1586280472862,
     "user": {
      "displayName": "Paul-Emile Gras",
      "photoUrl": "https://lh3.googleusercontent.com/a-/AOh14Giun006VpfVDRCMkatdIZ4QMJQ93cuayK9VMSKVPw=s64",
      "userId": "16931926333659806768"
     },
     "user_tz": 240
    },
    "id": "EqhCYNYSrv8N",
    "outputId": "f2110c05-25a9-440a-edc9-9079e4d3d3fa"
   },
   "outputs": [
    {
     "data": {
      "text/plain": [
       "(12685, 576)"
      ]
     },
     "execution_count": 12,
     "metadata": {
      "tags": []
     },
     "output_type": "execute_result"
    }
   ],
   "source": [
    "X_clus_train.shape"
   ]
  },
  {
   "cell_type": "markdown",
   "metadata": {
    "colab_type": "text",
    "id": "BmDddkRUdE54"
   },
   "source": [
    "## DBSCAN"
   ]
  },
  {
   "cell_type": "markdown",
   "metadata": {
    "colab_type": "text",
    "id": "I4_aXQWl203D"
   },
   "source": [
    "### Base Model"
   ]
  },
  {
   "cell_type": "code",
   "execution_count": 0,
   "metadata": {
    "colab": {
     "base_uri": "https://localhost:8080/",
     "height": 52
    },
    "colab_type": "code",
    "executionInfo": {
     "elapsed": 1711,
     "status": "ok",
     "timestamp": 1586283063243,
     "user": {
      "displayName": "Paul-Emile Gras",
      "photoUrl": "https://lh3.googleusercontent.com/a-/AOh14Giun006VpfVDRCMkatdIZ4QMJQ93cuayK9VMSKVPw=s64",
      "userId": "16931926333659806768"
     },
     "user_tz": 240
    },
    "id": "1Yq0uZTx_0K2",
    "outputId": "487fd039-a8f6-4501-a3cf-e9ea5091a850"
   },
   "outputs": [
    {
     "name": "stdout",
     "output_type": "stream",
     "text": [
      "R2: 0.16459982557069552\n",
      "MSE: 94516.41950407506\n"
     ]
    }
   ],
   "source": [
    "d = skuData[skuSet[0]]['X'].shape[1] #d is the number of columns\n",
    "X_clus = np.zeros((skuSet.size, d))\n",
    "count = 0\n",
    "for sku in skuSet:\n",
    "    X_clus[count, :] = np.mean(X_dict[sku]['train'], axis = 0)\n",
    "    count += 1\n",
    "    \n",
    "dbscan = DBSCAN(eps=15, min_samples = 4).fit(X_clus)\n",
    "labels2=dbscan.labels_\n",
    "z=max(labels2)+1 #this is the number of clusters\n",
    "num_noise=len(list(np.where(labels2 == -1)[0])) #number of noisy sku\n",
    "\n",
    "X_clus_train = np.zeros((train_size, d*(z+num_noise)))\n",
    "X_clus_test = np.zeros((test_size, d*(z+num_noise)))\n",
    "\n",
    "count=0\n",
    "\n",
    "#sku in one on the clusters\n",
    "for j in range(z):\n",
    "    # the indices of items in cluster j\n",
    "    clus_items = list(np.where(labels2 == j)[0])\n",
    "    for idx in clus_items:\n",
    "        sku = skuSet[idx]\n",
    "        # find the corresponding range\n",
    "        idx_train = range_dict[sku]['train']\n",
    "        idx_test = range_dict[sku]['test']\n",
    "\n",
    "        # stack the data\n",
    "        X_clus_train[idx_train[0]:idx_train[1], count:(count+d)] = X_dict[sku]['train']\n",
    "        X_clus_test[idx_test[0]:idx_test[1], count:count+d] = X_dict[sku]['test']\n",
    "\n",
    "    count += d\n",
    "\n",
    "#noise\n",
    "clus_items=list(np.where(labels2 == -1)[0])\n",
    "for idx in clus_items:\n",
    "  sku = skuSet[idx]\n",
    "  # find the corresponding range\n",
    "  idx_train = range_dict[sku]['train']\n",
    "  idx_test = range_dict[sku]['test']\n",
    "\n",
    "  # stack the data\n",
    "  X_clus_train[idx_train[0]:idx_train[1], count:(count+d)] = X_dict[sku]['train']\n",
    "  X_clus_test[idx_test[0]:idx_test[1], count:count+d] = X_dict[sku]['test']\n",
    "\n",
    "  count += d\n",
    "\n",
    "model_clus = LinearRegression(fit_intercept=False).fit(X_clus_train, y_train)\n",
    "print('R2:',r2_score(y_test, model_clus.predict(X_clus_test))) \n",
    "print('MSE:', mean_squared_error(y_test, model_clus.predict(X_clus_test)))"
   ]
  },
  {
   "cell_type": "markdown",
   "metadata": {
    "colab_type": "text",
    "id": "4HFcjtga3JVv"
   },
   "source": [
    "### Selection of eps and min_samples"
   ]
  },
  {
   "cell_type": "code",
   "execution_count": 0,
   "metadata": {
    "colab": {
     "base_uri": "https://localhost:8080/",
     "height": 887
    },
    "colab_type": "code",
    "executionInfo": {
     "elapsed": 932739,
     "status": "ok",
     "timestamp": 1586283998046,
     "user": {
      "displayName": "Paul-Emile Gras",
      "photoUrl": "https://lh3.googleusercontent.com/a-/AOh14Giun006VpfVDRCMkatdIZ4QMJQ93cuayK9VMSKVPw=s64",
      "userId": "16931926333659806768"
     },
     "user_tz": 240
    },
    "id": "6YUHb-t03NAz",
    "outputId": "e58dd1d3-b107-43e7-fefa-aeaca4148ceb"
   },
   "outputs": [
    {
     "name": "stdout",
     "output_type": "stream",
     "text": [
      "model number: 1\n",
      "  parameters: [19.5, 7]\n",
      "  R2: 0.16465738774287497\n",
      "model number: 2\n",
      "  parameters: [4.0, 8]\n",
      "  R2: 0.20303415099505895\n",
      "model number: 3\n",
      "  parameters: [11.5, 12]\n",
      "  R2: 0.2156294336085337\n",
      "model number: 4\n",
      "  parameters: [11.0, 10]\n",
      "  R2: 0.2156294336085337\n",
      "model number: 5\n",
      "  parameters: [7.0, 13]\n",
      "  R2: 0.1883811640307992\n",
      "model number: 6\n",
      "  parameters: [10.5, 11]\n",
      "  R2: 0.2156294336085337\n",
      "model number: 7\n",
      "  parameters: [17.5, 9]\n",
      "  R2: 0.16465738774287497\n",
      "model number: 8\n",
      "  parameters: [9.0, 3]\n",
      "  R2: 0.2237741536908402\n",
      "model number: 9\n",
      "  parameters: [14.0, 12]\n",
      "  R2: 0.22151761359539235\n",
      "model number: 10\n",
      "  parameters: [9.5, 7]\n",
      "  R2: 0.218348305717326\n",
      "model number: 11\n",
      "  parameters: [1.0, 4]\n",
      "  R2: 0.3548464172551853\n",
      "model number: 12\n",
      "  parameters: [7.5, 14]\n",
      "  R2: 0.1883811640307992\n",
      "model number: 13\n",
      "  parameters: [14.0, 6]\n",
      "  R2: 0.16465738774287497\n",
      "model number: 14\n",
      "  parameters: [17.5, 10]\n",
      "  R2: 0.16465738774287497\n",
      "model number: 15\n",
      "  parameters: [11.5, 13]\n",
      "  R2: 0.21559007652525808\n",
      "\n",
      "Best Model:\n",
      "parameters: [1.0, 4]\n",
      "R2: 0.3548464172551853\n"
     ]
    }
   ],
   "source": [
    "eps_ = list(np.arange(1,20,0.5))\n",
    "ms_ = list(range(2,15))\n",
    "params=[]\n",
    "maximum1=0\n",
    "\n",
    "for i in range (15):\n",
    "\n",
    "  print('model number:',i+1)\n",
    "\n",
    "  eps = random.choice(eps_)\n",
    "  ms = random.choice(ms_)\n",
    "\n",
    "  print('  parameters:',[eps,ms])\n",
    "\n",
    "  d = skuData[skuSet[0]]['X'].shape[1] #d is the number of columns\n",
    "  X_clus = np.zeros((skuSet.size, d))\n",
    "  count = 0\n",
    "  for sku in skuSet:\n",
    "    X_clus[count, :] = np.mean(X_dict[sku]['train'], axis = 0)\n",
    "    count += 1\n",
    "    \n",
    "  dbscan = DBSCAN(eps=eps, min_samples = ms).fit(X_clus)\n",
    "  labels2=dbscan.labels_\n",
    "  z=max(labels2)+1 #this is the number of clusters\n",
    "  num_noise=len(list(np.where(labels2 == -1)[0])) #number of noisy sku\n",
    "\n",
    "  X_clus_train = np.zeros((train_size, d*(z+num_noise)))\n",
    "  X_clus_test = np.zeros((test_size, d*(z+num_noise)))\n",
    "\n",
    "  count=0\n",
    "\n",
    "  #sku in one on the clusters\n",
    "  for j in range(z):\n",
    "    # the indices of items in cluster j\n",
    "    clus_items = list(np.where(labels2 == j)[0])\n",
    "    for idx in clus_items:\n",
    "        sku = skuSet[idx]\n",
    "        # find the corresponding range\n",
    "        idx_train = range_dict[sku]['train']\n",
    "        idx_test = range_dict[sku]['test']\n",
    "\n",
    "        # stack the data\n",
    "        X_clus_train[idx_train[0]:idx_train[1], count:(count+d)] = X_dict[sku]['train']\n",
    "        X_clus_test[idx_test[0]:idx_test[1], count:count+d] = X_dict[sku]['test']\n",
    "\n",
    "    count += d\n",
    "\n",
    "  #noise\n",
    "  clus_items=list(np.where(labels2 == -1)[0])\n",
    "  for idx in clus_items:\n",
    "    sku = skuSet[idx]\n",
    "    # find the corresponding range\n",
    "    idx_train = range_dict[sku]['train']\n",
    "    idx_test = range_dict[sku]['test']\n",
    "\n",
    "    # stack the data\n",
    "    X_clus_train[idx_train[0]:idx_train[1], count:(count+d)] = X_dict[sku]['train']\n",
    "    X_clus_test[idx_test[0]:idx_test[1], count:count+d] = X_dict[sku]['test']\n",
    "\n",
    "    count += d\n",
    "\n",
    "  model_clus = LinearRegression(fit_intercept=False).fit(X_clus_train, y_train)\n",
    "  score=r2_score(y_test, model_clus.predict(X_clus_test))\n",
    "  print('  R2:',score)\n",
    "\n",
    "  if score>maximum1:\n",
    "    params = [eps,ms]\n",
    "    maximum1 = score\n",
    "\n",
    "print('\\nBest Model:')\n",
    "print('parameters:',params)\n",
    "print('R2:',maximum1) "
   ]
  },
  {
   "cell_type": "markdown",
   "metadata": {
    "colab_type": "text",
    "id": "HE5Q_z413fE4"
   },
   "source": [
    "### Final Model"
   ]
  },
  {
   "cell_type": "code",
   "execution_count": 0,
   "metadata": {
    "colab": {
     "base_uri": "https://localhost:8080/",
     "height": 52
    },
    "colab_type": "code",
    "executionInfo": {
     "elapsed": 257350,
     "status": "ok",
     "timestamp": 1586282749587,
     "user": {
      "displayName": "Paul-Emile Gras",
      "photoUrl": "https://lh3.googleusercontent.com/a-/AOh14Giun006VpfVDRCMkatdIZ4QMJQ93cuayK9VMSKVPw=s64",
      "userId": "16931926333659806768"
     },
     "user_tz": 240
    },
    "id": "9Lri0Wtz3hSa",
    "outputId": "39547dc5-85ef-4aca-997d-2aaa1b98d98b"
   },
   "outputs": [
    {
     "name": "stdout",
     "output_type": "stream",
     "text": [
      "R2: 0.329834990904886\n",
      "MSE: 75821.86247430134\n"
     ]
    }
   ],
   "source": [
    "d = skuData[skuSet[0]]['X'].shape[1] #d is the number of columns\n",
    "X_clus = np.zeros((skuSet.size, d))\n",
    "count = 0\n",
    "for sku in skuSet:\n",
    "    X_clus[count, :] = np.mean(X_dict[sku]['train'], axis = 0)\n",
    "    count += 1\n",
    "    \n",
    "dbscan = DBSCAN(eps=2.5, min_samples = 4).fit(X_clus)\n",
    "labels2=dbscan.labels_\n",
    "z=max(labels2)+1 #this is the number of clusters\n",
    "num_noise=len(list(np.where(labels2 == -1)[0])) #number of noisy sku\n",
    "\n",
    "X_clus_train = np.zeros((train_size, d*(z+num_noise)))\n",
    "X_clus_test = np.zeros((test_size, d*(z+num_noise)))\n",
    "\n",
    "count=0\n",
    "\n",
    "#sku in one on the clusters\n",
    "for j in range(z):\n",
    "    # the indices of items in cluster j\n",
    "    clus_items = list(np.where(labels2 == j)[0])\n",
    "    for idx in clus_items:\n",
    "        sku = skuSet[idx]\n",
    "        # find the corresponding range\n",
    "        idx_train = range_dict[sku]['train']\n",
    "        idx_test = range_dict[sku]['test']\n",
    "\n",
    "        # stack the data\n",
    "        X_clus_train[idx_train[0]:idx_train[1], count:(count+d)] = X_dict[sku]['train']\n",
    "        X_clus_test[idx_test[0]:idx_test[1], count:count+d] = X_dict[sku]['test']\n",
    "\n",
    "    count += d\n",
    "\n",
    "#noise\n",
    "clus_items=list(np.where(labels2 == -1)[0])\n",
    "for idx in clus_items:\n",
    "  sku = skuSet[idx]\n",
    "  # find the corresponding range\n",
    "  idx_train = range_dict[sku]['train']\n",
    "  idx_test = range_dict[sku]['test']\n",
    "\n",
    "  # stack the data\n",
    "  X_clus_train[idx_train[0]:idx_train[1], count:(count+d)] = X_dict[sku]['train']\n",
    "  X_clus_test[idx_test[0]:idx_test[1], count:count+d] = X_dict[sku]['test']\n",
    "\n",
    "  count += d\n",
    "\n",
    "model_clus = LinearRegression(fit_intercept=False).fit(X_clus_train, y_train)\n",
    "print('R2:',r2_score(y_test, model_clus.predict(X_clus_test))) \n",
    "print('MSE:', mean_squared_error(y_test, model_clus.predict(X_clus_test)))"
   ]
  },
  {
   "cell_type": "markdown",
   "metadata": {
    "colab_type": "text",
    "id": "3BcOC08tdZBM"
   },
   "source": [
    "## OPTICS"
   ]
  },
  {
   "cell_type": "markdown",
   "metadata": {
    "colab_type": "text",
    "id": "TJkGWgRoD9hs"
   },
   "source": [
    "### Base Model"
   ]
  },
  {
   "cell_type": "code",
   "execution_count": 0,
   "metadata": {
    "colab": {
     "base_uri": "https://localhost:8080/",
     "height": 52
    },
    "colab_type": "code",
    "executionInfo": {
     "elapsed": 32419,
     "status": "ok",
     "timestamp": 1585113306584,
     "user": {
      "displayName": "Paul-Emile Gras",
      "photoUrl": "https://lh3.googleusercontent.com/a-/AOh14Giun006VpfVDRCMkatdIZ4QMJQ93cuayK9VMSKVPw=s64",
      "userId": "16931926333659806768"
     },
     "user_tz": 240
    },
    "id": "9aEuJnO9dbJd",
    "outputId": "0e478bff-8f10-4762-eab5-1b8b0f65f00a"
   },
   "outputs": [
    {
     "name": "stdout",
     "output_type": "stream",
     "text": [
      "R2: 0.16573211444498448\n",
      "MSE: 94388.31336582199\n"
     ]
    }
   ],
   "source": [
    "d = skuData[skuSet[0]]['X'].shape[1] #d is the number of columns\n",
    "X_clus = np.zeros((skuSet.size, d))\n",
    "count = 0\n",
    "for sku in skuSet:\n",
    "    X_clus[count, :] = np.mean(X_dict[sku]['train'], axis = 0)\n",
    "    count += 1\n",
    "    \n",
    "optics = OPTICS(min_samples=20).fit(X_clus)\n",
    "labels2=optics.labels_\n",
    "z=max(labels2)+1 #this is the number of clusters\n",
    "num_noise=len(list(np.where(labels2 == -1)[0])) #number of noisy sku\n",
    "\n",
    "X_clus_train = np.zeros((train_size, d*(z+num_noise)))\n",
    "X_clus_test = np.zeros((test_size, d*(z+num_noise)))\n",
    "\n",
    "count=0\n",
    "\n",
    "#sku in one on the clusters\n",
    "for j in range(z):\n",
    "    # the indices of items in cluster j\n",
    "    clus_items = list(np.where(labels2 == j)[0])\n",
    "    for idx in clus_items:\n",
    "        sku = skuSet[idx]\n",
    "        # find the corresponding range\n",
    "        idx_train = range_dict[sku]['train']\n",
    "        idx_test = range_dict[sku]['test']\n",
    "\n",
    "        # stack the data\n",
    "        X_clus_train[idx_train[0]:idx_train[1], count:(count+d)] = X_dict[sku]['train']\n",
    "        X_clus_test[idx_test[0]:idx_test[1], count:count+d] = X_dict[sku]['test']\n",
    "\n",
    "    count += d\n",
    "\n",
    "#noise\n",
    "clus_items=list(np.where(labels2 == -1)[0])\n",
    "for idx in clus_items:\n",
    "  sku = skuSet[idx]\n",
    "  # find the corresponding range\n",
    "  idx_train = range_dict[sku]['train']\n",
    "  idx_test = range_dict[sku]['test']\n",
    "\n",
    "  # stack the data\n",
    "  X_clus_train[idx_train[0]:idx_train[1], count:(count+d)] = X_dict[sku]['train']\n",
    "  X_clus_test[idx_test[0]:idx_test[1], count:count+d] = X_dict[sku]['test']\n",
    "\n",
    "  count += d\n",
    "\n",
    "model_clus = LinearRegression(fit_intercept=False).fit(X_clus_train, y_train)\n",
    "print('R2:',r2_score(y_test, model_clus.predict(X_clus_test))) \n",
    "print('MSE:', mean_squared_error(y_test, model_clus.predict(X_clus_test)))"
   ]
  },
  {
   "cell_type": "markdown",
   "metadata": {
    "colab_type": "text",
    "id": "rGs2H2a9EADw"
   },
   "source": [
    "### Selection of min_samples"
   ]
  },
  {
   "cell_type": "code",
   "execution_count": 0,
   "metadata": {
    "colab": {
     "base_uri": "https://localhost:8080/",
     "height": 887
    },
    "colab_type": "code",
    "executionInfo": {
     "elapsed": 4529,
     "status": "ok",
     "timestamp": 1585113261403,
     "user": {
      "displayName": "Paul-Emile Gras",
      "photoUrl": "https://lh3.googleusercontent.com/a-/AOh14Giun006VpfVDRCMkatdIZ4QMJQ93cuayK9VMSKVPw=s64",
      "userId": "16931926333659806768"
     },
     "user_tz": 240
    },
    "id": "1GYQdgUHEDrK",
    "outputId": "104e830e-6ff1-4f0e-feca-63c5eedd1c9c"
   },
   "outputs": [
    {
     "name": "stdout",
     "output_type": "stream",
     "text": [
      "model number: 1\n",
      "  parameter: 4\n",
      "  R2: 0.16262763426116278\n",
      "model number: 2\n",
      "  parameter: 1\n",
      "  R2: 0.16262763426116278\n",
      "model number: 3\n",
      "  parameter: 24\n",
      "  R2: 0.16262763426116278\n",
      "model number: 4\n",
      "  parameter: 27\n",
      "  R2: 0.16262763426116278\n",
      "model number: 5\n",
      "  parameter: 19\n",
      "  R2: 0.16262763426116278\n",
      "model number: 6\n",
      "  parameter: 2\n",
      "  R2: 0.16262763426116278\n",
      "model number: 7\n",
      "  parameter: 14\n",
      "  R2: 0.16262763426116278\n",
      "model number: 8\n",
      "  parameter: 8\n",
      "  R2: 0.16262763426116278\n",
      "model number: 9\n",
      "  parameter: 4\n",
      "  R2: 0.16262763426116278\n",
      "model number: 10\n",
      "  parameter: 27\n",
      "  R2: 0.16262763426116278\n",
      "model number: 11\n",
      "  parameter: 9\n",
      "  R2: 0.16262763426116278\n",
      "model number: 12\n",
      "  parameter: 24\n",
      "  R2: 0.16262763426116278\n",
      "model number: 13\n",
      "  parameter: 29\n",
      "  R2: 0.16262763426116278\n",
      "model number: 14\n",
      "  parameter: 11\n",
      "  R2: 0.16262763426116278\n",
      "model number: 15\n",
      "  parameter: 11\n",
      "  R2: 0.16262763426116278\n",
      "\n",
      "Best Model:\n",
      "optimal parameter: 4\n",
      "R2: 0.16262763426116278\n"
     ]
    }
   ],
   "source": [
    "ms_ = list(range(1,30))\n",
    "opt=0\n",
    "maximum1=0\n",
    "\n",
    "for i in range (15):\n",
    "\n",
    "  print('model number:',i+1)\n",
    "\n",
    "  ms = random.choice(ms_)\n",
    "\n",
    "  print('  parameter:',ms)\n",
    "\n",
    "  d = skuData[skuSet[0]]['X'].shape[1] #d is the number of columns\n",
    "  X_clus = np.zeros((skuSet.size, d))\n",
    "  count = 0\n",
    "  for sku in skuSet:\n",
    "    X_clus[count, :] = np.mean(X_dict[sku]['train'], axis = 0)\n",
    "    count += 1\n",
    "    \n",
    "  optics = OPTICS(min_samples=50).fit(X_clus)\n",
    "  labels2=optics.labels_\n",
    "  z=max(labels2)+1 #this is the number of clusters\n",
    "  num_noise=len(list(np.where(labels2 == -1)[0])) #number of noisy sku\n",
    "\n",
    "  X_clus_train = np.zeros((train_size, d*(z+num_noise)))\n",
    "  X_clus_test = np.zeros((test_size, d*(z+num_noise)))\n",
    "\n",
    "  count=0\n",
    "\n",
    "  #sku in one on the clusters\n",
    "  for j in range(z):\n",
    "    # the indices of items in cluster j\n",
    "    clus_items = list(np.where(labels2 == j)[0])\n",
    "    for idx in clus_items:\n",
    "        sku = skuSet[idx]\n",
    "        # find the corresponding range\n",
    "        idx_train = range_dict[sku]['train']\n",
    "        idx_test = range_dict[sku]['test']\n",
    "\n",
    "        # stack the data\n",
    "        X_clus_train[idx_train[0]:idx_train[1], count:(count+d)] = X_dict[sku]['train']\n",
    "        X_clus_test[idx_test[0]:idx_test[1], count:count+d] = X_dict[sku]['test']\n",
    "\n",
    "    count += d\n",
    "\n",
    "  #noise\n",
    "  clus_items=list(np.where(labels2 == -1)[0])\n",
    "  for idx in clus_items:\n",
    "    sku = skuSet[idx]\n",
    "    # find the corresponding range\n",
    "    idx_train = range_dict[sku]['train']\n",
    "    idx_test = range_dict[sku]['test']\n",
    "\n",
    "    # stack the data\n",
    "    X_clus_train[idx_train[0]:idx_train[1], count:(count+d)] = X_dict[sku]['train']\n",
    "    X_clus_test[idx_test[0]:idx_test[1], count:count+d] = X_dict[sku]['test']\n",
    "\n",
    "    count += d\n",
    "\n",
    "  model_clus = LinearRegression(fit_intercept=False).fit(X_clus_train, y_train)\n",
    "  score=r2_score(y_test, model_clus.predict(X_clus_test))\n",
    "  print('  R2:',score)\n",
    "\n",
    "  if score>maximum1:\n",
    "    opt = ms\n",
    "    maximum1 = score\n",
    "\n",
    "print('\\nBest Model:')\n",
    "print('optimal parameter:',opt)\n",
    "print('R2:',maximum1) "
   ]
  },
  {
   "cell_type": "markdown",
   "metadata": {
    "colab_type": "text",
    "id": "XtgyRe8aEELC"
   },
   "source": [
    "### Final Model"
   ]
  },
  {
   "cell_type": "code",
   "execution_count": 0,
   "metadata": {
    "colab": {
     "base_uri": "https://localhost:8080/",
     "height": 52
    },
    "colab_type": "code",
    "executionInfo": {
     "elapsed": 101713,
     "status": "ok",
     "timestamp": 1585113432526,
     "user": {
      "displayName": "Paul-Emile Gras",
      "photoUrl": "https://lh3.googleusercontent.com/a-/AOh14Giun006VpfVDRCMkatdIZ4QMJQ93cuayK9VMSKVPw=s64",
      "userId": "16931926333659806768"
     },
     "user_tz": 240
    },
    "id": "3Vxl7ipSEFyt",
    "outputId": "9512887e-1855-4742-ecb2-ff8286be23ab"
   },
   "outputs": [
    {
     "name": "stdout",
     "output_type": "stream",
     "text": [
      "R2: 0.4144023787818263\n",
      "MSE: 66253.98476299841\n"
     ]
    }
   ],
   "source": [
    "d = skuData[skuSet[0]]['X'].shape[1] #d is the number of columns\n",
    "X_clus = np.zeros((skuSet.size, d))\n",
    "count = 0\n",
    "for sku in skuSet:\n",
    "    X_clus[count, :] = np.mean(X_dict[sku]['train'], axis = 0)\n",
    "    count += 1\n",
    "    \n",
    "optics = OPTICS(min_samples=4).fit(X_clus)\n",
    "labels2=optics.labels_\n",
    "z=max(labels2)+1 #this is the number of clusters\n",
    "num_noise=len(list(np.where(labels2 == -1)[0])) #number of noisy sku\n",
    "\n",
    "X_clus_train = np.zeros((train_size, d*(z+num_noise)))\n",
    "X_clus_test = np.zeros((test_size, d*(z+num_noise)))\n",
    "\n",
    "count=0\n",
    "\n",
    "#sku in one on the clusters\n",
    "for j in range(z):\n",
    "    # the indices of items in cluster j\n",
    "    clus_items = list(np.where(labels2 == j)[0])\n",
    "    for idx in clus_items:\n",
    "        sku = skuSet[idx]\n",
    "        # find the corresponding range\n",
    "        idx_train = range_dict[sku]['train']\n",
    "        idx_test = range_dict[sku]['test']\n",
    "\n",
    "        # stack the data\n",
    "        X_clus_train[idx_train[0]:idx_train[1], count:(count+d)] = X_dict[sku]['train']\n",
    "        X_clus_test[idx_test[0]:idx_test[1], count:count+d] = X_dict[sku]['test']\n",
    "\n",
    "    count += d\n",
    "\n",
    "#noise\n",
    "clus_items=list(np.where(labels2 == -1)[0])\n",
    "for idx in clus_items:\n",
    "  sku = skuSet[idx]\n",
    "  # find the corresponding range\n",
    "  idx_train = range_dict[sku]['train']\n",
    "  idx_test = range_dict[sku]['test']\n",
    "\n",
    "  # stack the data\n",
    "  X_clus_train[idx_train[0]:idx_train[1], count:(count+d)] = X_dict[sku]['train']\n",
    "  X_clus_test[idx_test[0]:idx_test[1], count:count+d] = X_dict[sku]['test']\n",
    "\n",
    "  count += d\n",
    "\n",
    "model_clus = LinearRegression(fit_intercept=False).fit(X_clus_train, y_train)\n",
    "print('R2:',r2_score(y_test, model_clus.predict(X_clus_test))) \n",
    "print('MSE:', mean_squared_error(y_test, model_clus.predict(X_clus_test)))"
   ]
  },
  {
   "cell_type": "markdown",
   "metadata": {
    "colab_type": "text",
    "id": "i88KHBRQIwin"
   },
   "source": [
    "# Other Methods on Decentralized data"
   ]
  },
  {
   "cell_type": "markdown",
   "metadata": {
    "colab_type": "text",
    "id": "1GASeGCe8S0L"
   },
   "source": [
    "## Decentralized-Lasso"
   ]
  },
  {
   "cell_type": "code",
   "execution_count": 0,
   "metadata": {
    "colab": {
     "base_uri": "https://localhost:8080/",
     "height": 52
    },
    "colab_type": "code",
    "executionInfo": {
     "elapsed": 3911,
     "status": "ok",
     "timestamp": 1585114068687,
     "user": {
      "displayName": "Paul-Emile Gras",
      "photoUrl": "https://lh3.googleusercontent.com/a-/AOh14Giun006VpfVDRCMkatdIZ4QMJQ93cuayK9VMSKVPw=s64",
      "userId": "16931926333659806768"
     },
     "user_tz": 240
    },
    "id": "kyyXKCTg8S0M",
    "outputId": "784e1903-01a9-468e-d8bd-4b19ede672f5"
   },
   "outputs": [
    {
     "name": "stdout",
     "output_type": "stream",
     "text": [
      "R2: 0.43862418532597247\n",
      "MSE: 63513.55149694479\n"
     ]
    }
   ],
   "source": [
    "# model fitting - b1 Lasso\n",
    "y_pred = []\n",
    "for i in skuSet:\n",
    "    model_i = LassoCV(alphas=[0.01,0.1,1,10,100], fit_intercept=False).fit(X_dict[i]['train'] , y_dict[i]['train'])\n",
    "    y_pred += list(model_i.predict(X_dict[i]['test']))\n",
    "\n",
    "print('R2:',r2_score(y_test, np.array(y_pred)))\n",
    "#print(r2_score(y_test, np.array(y_pred), multioutput = 'variance_weighted'))\n",
    "print('MSE:', mean_squared_error(y_test, np.array(y_pred)))\n",
    "#print('MAPE:', mape(y_test,np.array(y_pred)))"
   ]
  },
  {
   "cell_type": "markdown",
   "metadata": {
    "colab_type": "text",
    "id": "jr7jJLUG_jdr"
   },
   "source": [
    "## Elasticnet-Decentralized"
   ]
  },
  {
   "cell_type": "code",
   "execution_count": 0,
   "metadata": {
    "colab": {
     "base_uri": "https://localhost:8080/",
     "height": 52
    },
    "colab_type": "code",
    "executionInfo": {
     "elapsed": 3687,
     "status": "ok",
     "timestamp": 1585114338923,
     "user": {
      "displayName": "Paul-Emile Gras",
      "photoUrl": "https://lh3.googleusercontent.com/a-/AOh14Giun006VpfVDRCMkatdIZ4QMJQ93cuayK9VMSKVPw=s64",
      "userId": "16931926333659806768"
     },
     "user_tz": 240
    },
    "id": "4iqlM5hL_onl",
    "outputId": "8760123f-2ff8-4cc3-e866-afcebca2eecc"
   },
   "outputs": [
    {
     "name": "stdout",
     "output_type": "stream",
     "text": [
      "R2: 0.45782258658731356\n",
      "MSE: 61341.461757241195\n"
     ]
    }
   ],
   "source": [
    "#MODEL fitting - b1 elasticnet :\n",
    "\n",
    "y_pred = []\n",
    "for i in skuSet:\n",
    "    model_i = ElasticNetCV(alphas=[0.01,0.1,1,10,100], fit_intercept=False).fit(X_dict[i]['train'] , y_dict[i]['train'])\n",
    "    y_pred += list(model_i.predict(X_dict[i]['test']))\n",
    "\n",
    "print('R2:',r2_score(y_test, np.array(y_pred)))\n",
    "print('MSE:', mean_squared_error(y_test, np.array(y_pred)))"
   ]
  },
  {
   "cell_type": "markdown",
   "metadata": {
    "colab_type": "text",
    "id": "LQnva2XF_t3j"
   },
   "source": [
    "# Decision tree"
   ]
  },
  {
   "cell_type": "markdown",
   "metadata": {
    "colab_type": "text",
    "id": "kN0PwFjtdxRd"
   },
   "source": [
    "## Decentralized"
   ]
  },
  {
   "cell_type": "markdown",
   "metadata": {
    "colab_type": "text",
    "id": "7nal9OAjft_m"
   },
   "source": [
    "### Selection of parameters\n",
    "\n"
   ]
  },
  {
   "cell_type": "code",
   "execution_count": 0,
   "metadata": {
    "colab": {
     "base_uri": "https://localhost:8080/",
     "height": 1000
    },
    "colab_type": "code",
    "executionInfo": {
     "elapsed": 1401,
     "status": "ok",
     "timestamp": 1585173767060,
     "user": {
      "displayName": "Paul-Emile Gras",
      "photoUrl": "https://lh3.googleusercontent.com/a-/AOh14Giun006VpfVDRCMkatdIZ4QMJQ93cuayK9VMSKVPw=s64",
      "userId": "16931926333659806768"
     },
     "user_tz": 240
    },
    "id": "HZrn89sXfxTt",
    "outputId": "fe60a2ba-ebd9-4f47-bb27-ce2c51b02cd1"
   },
   "outputs": [
    {
     "name": "stdout",
     "output_type": "stream",
     "text": [
      "model number: 1\n",
      "  parameters: [51, 2]\n",
      "  R2: 0.3777224446827576\n",
      "model number: 2\n",
      "  parameters: [59, 7]\n",
      "  R2: 0.33487270407058867\n",
      "model number: 3\n",
      "  parameters: [52, 7]\n",
      "  R2: 0.3660148826223658\n",
      "model number: 4\n",
      "  parameters: [62, 7]\n",
      "  R2: 0.3810041734524523\n",
      "model number: 5\n",
      "  parameters: [16, 5]\n",
      "  R2: 0.3127194068783158\n",
      "model number: 6\n",
      "  parameters: [55, 2]\n",
      "  R2: 0.38841283860673936\n",
      "model number: 7\n",
      "  parameters: [43, 6]\n",
      "  R2: 0.35997100010079996\n",
      "model number: 8\n",
      "  parameters: [48, 2]\n",
      "  R2: 0.38504536799684164\n",
      "model number: 9\n",
      "  parameters: [31, 8]\n",
      "  R2: 0.45427237151821964\n",
      "model number: 10\n",
      "  parameters: [63, 6]\n",
      "  R2: 0.28821138464977236\n",
      "model number: 11\n",
      "  parameters: [34, 9]\n",
      "  R2: 0.11343783767580518\n",
      "model number: 12\n",
      "  parameters: [34, 6]\n",
      "  R2: 0.3791264217600877\n",
      "model number: 13\n",
      "  parameters: [47, 5]\n",
      "  R2: 0.3722485894569185\n",
      "model number: 14\n",
      "  parameters: [35, 9]\n",
      "  R2: 0.3534608976093071\n",
      "model number: 15\n",
      "  parameters: [48, 6]\n",
      "  R2: 0.3706261690676692\n",
      "model number: 16\n",
      "  parameters: [55, 4]\n",
      "  R2: 0.287812602079359\n",
      "model number: 17\n",
      "  parameters: [45, 7]\n",
      "  R2: 0.2599310278607755\n",
      "model number: 18\n",
      "  parameters: [63, 7]\n",
      "  R2: 0.37882941792261093\n",
      "model number: 19\n",
      "  parameters: [34, 5]\n",
      "  R2: 0.2897247264959397\n",
      "model number: 20\n",
      "  parameters: [47, 4]\n",
      "  R2: 0.3049257064835451\n",
      "\n",
      "Best Model:\n",
      "parameters: [31, 8]\n",
      "R2: 0.45427237151821964\n"
     ]
    }
   ],
   "source": [
    "max_features_ = list(range(2,64)) #there are 73-9 features\n",
    "max_depth_ = list(range(2,10))\n",
    "params=[]\n",
    "maximum1=0\n",
    "\n",
    "for i in range (20):\n",
    "\n",
    "  print('model number:',i+1)\n",
    "\n",
    "  mf = random.choice(max_features_)\n",
    "  md = random.choice(max_depth_)\n",
    "\n",
    "  print('  parameters:',[mf,md])\n",
    "\n",
    "  y_pred = []\n",
    "  for i in skuSet:\n",
    "    model_i = DecisionTreeRegressor(max_features=mf,\n",
    "                                    max_depth=md\n",
    "                                        ).fit(X_dict[i]['train'] , y_dict[i]['train'])\n",
    "    y_pred += list(model_i.predict(X_dict[i]['test']))\n",
    "\n",
    "  score=r2_score(y_test, np.array(y_pred))\n",
    "  print('  R2:',score)\n",
    "\n",
    "  if score>maximum1:\n",
    "    params = [mf,md]\n",
    "    maximum1 = score\n",
    "\n",
    "print('\\nBest Model:')\n",
    "print('parameters:',params)\n",
    "print('R2:',maximum1) "
   ]
  },
  {
   "cell_type": "markdown",
   "metadata": {
    "colab_type": "text",
    "id": "nFWiTDHjfxrW"
   },
   "source": [
    "### Final Model"
   ]
  },
  {
   "cell_type": "code",
   "execution_count": 0,
   "metadata": {
    "colab": {
     "base_uri": "https://localhost:8080/",
     "height": 52
    },
    "colab_type": "code",
    "executionInfo": {
     "elapsed": 218,
     "status": "ok",
     "timestamp": 1585173805442,
     "user": {
      "displayName": "Paul-Emile Gras",
      "photoUrl": "https://lh3.googleusercontent.com/a-/AOh14Giun006VpfVDRCMkatdIZ4QMJQ93cuayK9VMSKVPw=s64",
      "userId": "16931926333659806768"
     },
     "user_tz": 240
    },
    "id": "x1-YkpkGbcI-",
    "outputId": "06347674-9fb3-42a1-b50f-1b25eb71b6aa"
   },
   "outputs": [
    {
     "name": "stdout",
     "output_type": "stream",
     "text": [
      "R2: 0.2918082562311244\n",
      "MSE: 80124.17281227885\n"
     ]
    }
   ],
   "source": [
    "y_pred = []\n",
    "for i in skuSet:\n",
    "    model_i = DecisionTreeRegressor(max_features=31,\n",
    "                                    max_depth=8\n",
    "                                    ).fit(X_dict[i]['train'] , y_dict[i]['train'])\n",
    "    y_pred += list(model_i.predict(X_dict[i]['test']))\n",
    "\n",
    "print('R2:',r2_score(y_test, np.array(y_pred)))\n",
    "print('MSE:', mean_squared_error(y_test, np.array(y_pred)))"
   ]
  },
  {
   "cell_type": "markdown",
   "metadata": {
    "colab_type": "text",
    "id": "yTX9ltggd1dz"
   },
   "source": [
    "## Centralized"
   ]
  },
  {
   "cell_type": "markdown",
   "metadata": {
    "colab_type": "text",
    "id": "TuAUAknNgoyq"
   },
   "source": [
    "### Selection of parameters"
   ]
  },
  {
   "cell_type": "code",
   "execution_count": 0,
   "metadata": {
    "colab": {
     "base_uri": "https://localhost:8080/",
     "height": 1000
    },
    "colab_type": "code",
    "executionInfo": {
     "elapsed": 1308,
     "status": "ok",
     "timestamp": 1585174149964,
     "user": {
      "displayName": "Paul-Emile Gras",
      "photoUrl": "https://lh3.googleusercontent.com/a-/AOh14Giun006VpfVDRCMkatdIZ4QMJQ93cuayK9VMSKVPw=s64",
      "userId": "16931926333659806768"
     },
     "user_tz": 240
    },
    "id": "gY5oWzaTgq1x",
    "outputId": "9a4aeda5-8e18-4ac5-f013-b4ddb608b7cf"
   },
   "outputs": [
    {
     "name": "stdout",
     "output_type": "stream",
     "text": [
      "model number: 1\n",
      "  parameters: [59, 6]\n",
      "  R2: 0.3945759970893308\n",
      "model number: 2\n",
      "  parameters: [60, 9]\n",
      "  R2: 0.3945759970893308\n",
      "model number: 3\n",
      "  parameters: [2, 3]\n",
      "  R2: 0.3945759970893308\n",
      "model number: 4\n",
      "  parameters: [61, 3]\n",
      "  R2: 0.3945759970893308\n",
      "model number: 5\n",
      "  parameters: [41, 9]\n",
      "  R2: 0.3945759970893308\n",
      "model number: 6\n",
      "  parameters: [23, 7]\n",
      "  R2: 0.3945759970893308\n",
      "model number: 7\n",
      "  parameters: [49, 7]\n",
      "  R2: 0.3945759970893308\n",
      "model number: 8\n",
      "  parameters: [32, 8]\n",
      "  R2: 0.3945759970893308\n",
      "model number: 9\n",
      "  parameters: [43, 7]\n",
      "  R2: 0.3945759970893308\n",
      "model number: 10\n",
      "  parameters: [9, 7]\n",
      "  R2: 0.3945759970893308\n",
      "model number: 11\n",
      "  parameters: [46, 8]\n",
      "  R2: 0.3945759970893308\n",
      "model number: 12\n",
      "  parameters: [60, 9]\n",
      "  R2: 0.3945759970893308\n",
      "model number: 13\n",
      "  parameters: [28, 6]\n",
      "  R2: 0.3945759970893308\n",
      "model number: 14\n",
      "  parameters: [22, 3]\n",
      "  R2: 0.3945759970893308\n",
      "model number: 15\n",
      "  parameters: [44, 6]\n",
      "  R2: 0.3945759970893308\n",
      "model number: 16\n",
      "  parameters: [32, 8]\n",
      "  R2: 0.3945759970893308\n",
      "model number: 17\n",
      "  parameters: [32, 2]\n",
      "  R2: 0.3945759970893308\n",
      "model number: 18\n",
      "  parameters: [29, 4]\n",
      "  R2: 0.3945759970893308\n",
      "model number: 19\n",
      "  parameters: [28, 9]\n",
      "  R2: 0.3945759970893308\n",
      "model number: 20\n",
      "  parameters: [45, 3]\n",
      "  R2: 0.3945759970893308\n",
      "\n",
      "Best Model:\n",
      "parameters: [59, 6]\n",
      "R2: 0.3945759970893308\n"
     ]
    }
   ],
   "source": [
    "max_features_ = list(range(2,64)) #there are 73 features minus the first 9\n",
    "max_depth_ = list(range(2,10))\n",
    "params=[]\n",
    "maximum1=0\n",
    "\n",
    "for i in range (20):\n",
    "\n",
    "  print('model number:',i+1)\n",
    "\n",
    "  mf = random.choice(max_features_)\n",
    "  md = random.choice(max_depth_)\n",
    "\n",
    "  print('  parameters:',[mf,md])\n",
    "\n",
    "  DT_cen = DecisionTreeRegressor(max_features=mf,\n",
    "                                 max_depth=md\n",
    "                                 ).fit(X_cen_train, y_train)\n",
    "\n",
    "  score=r2_score(y_test, RF_cen.predict(X_cen_test))\n",
    "  print('  R2:',score)\n",
    "\n",
    "  if score>maximum1:\n",
    "    params = [mf,md]\n",
    "    maximum1 = score\n",
    "\n",
    "print('\\nBest Model:')\n",
    "print('parameters:',params)\n",
    "print('R2:',maximum1)  "
   ]
  },
  {
   "cell_type": "markdown",
   "metadata": {
    "colab_type": "text",
    "id": "SXq0CnDugrIU"
   },
   "source": [
    "### Final Model"
   ]
  },
  {
   "cell_type": "code",
   "execution_count": 0,
   "metadata": {
    "colab": {
     "base_uri": "https://localhost:8080/",
     "height": 52
    },
    "colab_type": "code",
    "executionInfo": {
     "elapsed": 257,
     "status": "ok",
     "timestamp": 1585174190036,
     "user": {
      "displayName": "Paul-Emile Gras",
      "photoUrl": "https://lh3.googleusercontent.com/a-/AOh14Giun006VpfVDRCMkatdIZ4QMJQ93cuayK9VMSKVPw=s64",
      "userId": "16931926333659806768"
     },
     "user_tz": 240
    },
    "id": "Lp4a7hHKd3WO",
    "outputId": "3e6167fa-b521-49fc-a905-6b7aa6d962ec"
   },
   "outputs": [
    {
     "name": "stdout",
     "output_type": "stream",
     "text": [
      "R2: 0.3489352383782781\n",
      "MSE: 73660.87776531438\n"
     ]
    }
   ],
   "source": [
    "DT_cen = DecisionTreeRegressor(max_features=59,\n",
    "                                 max_depth=6\n",
    "                                 ).fit(X_cen_train, y_train)\n",
    "print('R2:',r2_score(y_test, DT_cen.predict(X_cen_test)))  \n",
    "print('MSE:', mean_squared_error(y_test, DT_cen.predict(X_cen_test)))"
   ]
  },
  {
   "cell_type": "markdown",
   "metadata": {
    "colab_type": "text",
    "id": "aDw4YI0q_pUi"
   },
   "source": [
    "# Random forest"
   ]
  },
  {
   "cell_type": "markdown",
   "metadata": {
    "colab_type": "text",
    "id": "mN-Z0VK5fF4i"
   },
   "source": [
    "## Decentralized"
   ]
  },
  {
   "cell_type": "markdown",
   "metadata": {
    "colab_type": "text",
    "id": "S4E6M8xNNLJE"
   },
   "source": [
    "### Selection of parameters"
   ]
  },
  {
   "cell_type": "code",
   "execution_count": 0,
   "metadata": {
    "colab": {
     "base_uri": "https://localhost:8080/",
     "height": 1000
    },
    "colab_type": "code",
    "executionInfo": {
     "elapsed": 450271,
     "status": "ok",
     "timestamp": 1585173198667,
     "user": {
      "displayName": "Paul-Emile Gras",
      "photoUrl": "https://lh3.googleusercontent.com/a-/AOh14Giun006VpfVDRCMkatdIZ4QMJQ93cuayK9VMSKVPw=s64",
      "userId": "16931926333659806768"
     },
     "user_tz": 240
    },
    "id": "t9VaCmglNQDy",
    "outputId": "70706701-8384-4cf9-f59d-52355ae776c8"
   },
   "outputs": [
    {
     "name": "stdout",
     "output_type": "stream",
     "text": [
      "model number: 1\n",
      "  parameters: [0.1, 11, 177, 5]\n",
      "  R2: 0.5953945062994416\n",
      "model number: 2\n",
      "  parameters: [0.1, 26, 66, 9]\n",
      "  R2: 0.6308878675985556\n",
      "model number: 3\n",
      "  parameters: [0.1, 62, 81, 9]\n",
      "  R2: 0.5397911645162428\n",
      "model number: 4\n",
      "  parameters: [0.1, 49, 165, 8]\n",
      "  R2: 0.5641095564631398\n",
      "model number: 5\n",
      "  parameters: [0.1, 33, 71, 2]\n",
      "  R2: 0.5557752016130146\n",
      "model number: 6\n",
      "  parameters: [0.1, 27, 134, 8]\n",
      "  R2: 0.5997695402260855\n",
      "model number: 7\n",
      "  parameters: [0.1, 34, 150, 7]\n",
      "  R2: 0.6003370819734972\n",
      "model number: 8\n",
      "  parameters: [0.1, 34, 191, 5]\n",
      "  R2: 0.5869912132137787\n",
      "model number: 9\n",
      "  parameters: [0.1, 3, 128, 9]\n",
      "  R2: 0.6169321731974524\n",
      "model number: 10\n",
      "  parameters: [0.1, 18, 138, 7]\n",
      "  R2: 0.6207848660165711\n",
      "model number: 11\n",
      "  parameters: [0.1, 49, 165, 9]\n",
      "  R2: 0.5766638660067989\n",
      "model number: 12\n",
      "  parameters: [0.1, 32, 174, 5]\n",
      "  R2: 0.602500499649165\n",
      "model number: 13\n",
      "  parameters: [0.1, 29, 133, 4]\n",
      "  R2: 0.5808611231208164\n",
      "model number: 14\n",
      "  parameters: [0.1, 29, 89, 7]\n",
      "  R2: 0.6093566109389795\n",
      "model number: 15\n",
      "  parameters: [0.1, 35, 166, 2]\n",
      "  R2: 0.5488264192320214\n",
      "model number: 16\n",
      "  parameters: [0.1, 38, 106, 3]\n",
      "  R2: 0.5799749163130332\n",
      "model number: 17\n",
      "  parameters: [0.1, 41, 131, 4]\n",
      "  R2: 0.5909114576086274\n",
      "model number: 18\n",
      "  parameters: [0.1, 11, 97, 6]\n",
      "  R2: 0.6077809654924433\n",
      "model number: 19\n",
      "  parameters: [0.1, 7, 70, 8]\n",
      "  R2: 0.5998111304624543\n",
      "model number: 20\n",
      "  parameters: [0.1, 61, 188, 8]\n",
      "  R2: 0.5676966930219418\n",
      "\n",
      "Best Model:\n",
      "parameters: [0.1, 26, 66, 9]\n",
      "R2: 0.6308878675985556\n"
     ]
    }
   ],
   "source": [
    "max_features_ = list(range(2,64)) #there are 73-9 features\n",
    "n_estimators_ = list(range(50,200))\n",
    "max_depth_ = list(range(2,10))\n",
    "params=[]\n",
    "maximum1=0\n",
    "\n",
    "for i in range (20):\n",
    "\n",
    "  print('model number:',i+1)\n",
    "\n",
    "  mf = random.choice(max_features_)\n",
    "  ne = random.choice(n_estimators_)\n",
    "  md = random.choice(max_depth_)\n",
    "\n",
    "  print('  parameters:',[mf,ne,md])\n",
    "\n",
    "  y_pred = []\n",
    "  for i in skuSet:\n",
    "    model_i = RandomForestRegressor(max_features=mf,\n",
    "                                    n_estimators=ne,\n",
    "                                    max_depth=md\n",
    "                                        ).fit(X_dict[i]['train'] , y_dict[i]['train'])\n",
    "    y_pred += list(model_i.predict(X_dict[i]['test']))\n",
    "\n",
    "  score=r2_score(y_test, np.array(y_pred))\n",
    "  print('  R2:',score)\n",
    "\n",
    "  if score>maximum1:\n",
    "    params = [mf,ne,md]\n",
    "    maximum1 = score\n",
    "\n",
    "print('\\nBest Model:')\n",
    "print('parameters:',params)\n",
    "print('R2:',maximum1) "
   ]
  },
  {
   "cell_type": "markdown",
   "metadata": {
    "colab_type": "text",
    "id": "hdt7O28wNQXN"
   },
   "source": [
    "### Final Model"
   ]
  },
  {
   "cell_type": "code",
   "execution_count": 0,
   "metadata": {
    "colab": {
     "base_uri": "https://localhost:8080/",
     "height": 52
    },
    "colab_type": "code",
    "executionInfo": {
     "elapsed": 12361,
     "status": "ok",
     "timestamp": 1585173279048,
     "user": {
      "displayName": "Paul-Emile Gras",
      "photoUrl": "https://lh3.googleusercontent.com/a-/AOh14Giun006VpfVDRCMkatdIZ4QMJQ93cuayK9VMSKVPw=s64",
      "userId": "16931926333659806768"
     },
     "user_tz": 240
    },
    "id": "a3p-fgemb-zE",
    "outputId": "fd5ea506-a39c-4c65-f183-c059d594fc30"
   },
   "outputs": [
    {
     "name": "stdout",
     "output_type": "stream",
     "text": [
      "R2: 0.6209300583575346\n",
      "MSE: 42887.630051238964\n"
     ]
    }
   ],
   "source": [
    "y_pred = []\n",
    "for i in skuSet:\n",
    "  model_i = RandomForestRegressor(max_features=26,\n",
    "                                  n_estimators=66,\n",
    "                                  max_depth=9\n",
    "                                  ).fit(X_dict[i]['train'] , y_dict[i]['train'])\n",
    "  y_pred += list(model_i.predict(X_dict[i]['test']))\n",
    "\n",
    "print('R2:',r2_score(y_test, np.array(y_pred)))\n",
    "print('MSE:', mean_squared_error(y_test, np.array(y_pred)))"
   ]
  },
  {
   "cell_type": "markdown",
   "metadata": {
    "colab_type": "text",
    "id": "k01N0BNrfIRR"
   },
   "source": [
    "## Centralized"
   ]
  },
  {
   "cell_type": "markdown",
   "metadata": {
    "colab_type": "text",
    "id": "-AiVE37rP0tR"
   },
   "source": [
    "### Selection of paramaters"
   ]
  },
  {
   "cell_type": "code",
   "execution_count": 0,
   "metadata": {
    "colab": {
     "base_uri": "https://localhost:8080/",
     "height": 1000
    },
    "colab_type": "code",
    "executionInfo": {
     "elapsed": 39549,
     "status": "ok",
     "timestamp": 1585173541317,
     "user": {
      "displayName": "Paul-Emile Gras",
      "photoUrl": "https://lh3.googleusercontent.com/a-/AOh14Giun006VpfVDRCMkatdIZ4QMJQ93cuayK9VMSKVPw=s64",
      "userId": "16931926333659806768"
     },
     "user_tz": 240
    },
    "id": "r4AJo9UEPz3q",
    "outputId": "877be18b-403c-4c09-db71-7dcac62ba231"
   },
   "outputs": [
    {
     "name": "stdout",
     "output_type": "stream",
     "text": [
      "model number: 1\n",
      "  parameters: [55, 58, 9]\n",
      "  R2: 0.41985331148907856\n",
      "model number: 2\n",
      "  parameters: [56, 58, 8]\n",
      "  R2: 0.3851882736564364\n",
      "model number: 3\n",
      "  parameters: [60, 141, 4]\n",
      "  R2: 0.3082901344166139\n",
      "model number: 4\n",
      "  parameters: [22, 118, 9]\n",
      "  R2: 0.40431711057046493\n",
      "model number: 5\n",
      "  parameters: [52, 126, 5]\n",
      "  R2: 0.32136459885745916\n",
      "model number: 6\n",
      "  parameters: [58, 146, 7]\n",
      "  R2: 0.34720158554121283\n",
      "model number: 7\n",
      "  parameters: [33, 110, 6]\n",
      "  R2: 0.37893180597018583\n",
      "model number: 8\n",
      "  parameters: [42, 55, 9]\n",
      "  R2: 0.37579899010813256\n",
      "model number: 9\n",
      "  parameters: [9, 106, 9]\n",
      "  R2: 0.4182883350457668\n",
      "model number: 10\n",
      "  parameters: [42, 199, 7]\n",
      "  R2: 0.368425547504622\n",
      "model number: 11\n",
      "  parameters: [23, 144, 7]\n",
      "  R2: 0.38883248603032583\n",
      "model number: 12\n",
      "  parameters: [48, 199, 9]\n",
      "  R2: 0.38481199418610823\n",
      "model number: 13\n",
      "  parameters: [49, 70, 3]\n",
      "  R2: 0.28613549732779153\n",
      "model number: 14\n",
      "  parameters: [21, 56, 5]\n",
      "  R2: 0.380186600818158\n",
      "model number: 15\n",
      "  parameters: [7, 174, 5]\n",
      "  R2: 0.2425383822083702\n",
      "model number: 16\n",
      "  parameters: [38, 190, 8]\n",
      "  R2: 0.39009736592109845\n",
      "model number: 17\n",
      "  parameters: [34, 83, 5]\n",
      "  R2: 0.3642980169919967\n",
      "model number: 18\n",
      "  parameters: [53, 85, 6]\n",
      "  R2: 0.34602160253760583\n",
      "model number: 19\n",
      "  parameters: [51, 101, 8]\n",
      "  R2: 0.3690416597001548\n",
      "model number: 20\n",
      "  parameters: [3, 115, 7]\n",
      "  R2: 0.2196547126377455\n",
      "\n",
      "Best Model:\n",
      "parameters: [55, 58, 9]\n",
      "R2: 0.41985331148907856\n"
     ]
    }
   ],
   "source": [
    "max_features_ = list(range(2,64)) #there are 73 features minus the first 9\n",
    "n_estimators_ = list(range(50,200))\n",
    "max_depth_ = list(range(2,10))\n",
    "params=[]\n",
    "maximum1=0\n",
    "\n",
    "for i in range (20):\n",
    "\n",
    "  print('model number:',i+1)\n",
    "\n",
    "  mf = random.choice(max_features_)\n",
    "  ne = random.choice(n_estimators_)\n",
    "  md = random.choice(max_depth_)\n",
    "\n",
    "  print('  parameters:',[mf,ne,md])\n",
    "\n",
    "  RF_cen = RandomForestRegressor(max_features=mf,\n",
    "                                 n_estimators=ne,\n",
    "                                 max_depth=md\n",
    "                                 ).fit(X_cen_train, y_train)\n",
    "\n",
    "  score=r2_score(y_test, RF_cen.predict(X_cen_test))\n",
    "  print('  R2:',score)\n",
    "\n",
    "  if score>maximum1:\n",
    "    params = [mf,ne,md]\n",
    "    maximum1 = score\n",
    "\n",
    "print('\\nBest Model:')\n",
    "print('parameters:',params)\n",
    "print('R2:',maximum1) "
   ]
  },
  {
   "cell_type": "markdown",
   "metadata": {
    "colab_type": "text",
    "id": "OA5Nm9HzPxvg"
   },
   "source": [
    "### Final Model"
   ]
  },
  {
   "cell_type": "code",
   "execution_count": 0,
   "metadata": {
    "colab": {
     "base_uri": "https://localhost:8080/",
     "height": 52
    },
    "colab_type": "code",
    "executionInfo": {
     "elapsed": 2052,
     "status": "ok",
     "timestamp": 1585173701904,
     "user": {
      "displayName": "Paul-Emile Gras",
      "photoUrl": "https://lh3.googleusercontent.com/a-/AOh14Giun006VpfVDRCMkatdIZ4QMJQ93cuayK9VMSKVPw=s64",
      "userId": "16931926333659806768"
     },
     "user_tz": 240
    },
    "id": "DpqaQA6qfKE8",
    "outputId": "22536b65-ab2d-4d65-a827-ad9e96db3f1d"
   },
   "outputs": [
    {
     "name": "stdout",
     "output_type": "stream",
     "text": [
      "R2: 0.3945759970893308\n",
      "MSE: 68497.12364021492\n"
     ]
    }
   ],
   "source": [
    "RF_cen = RandomForestRegressor(max_features=55,\n",
    "                                 n_estimators=58,\n",
    "                                 max_depth=9\n",
    "                                 ).fit(X_cen_train, y_train)\n",
    "print('R2:',r2_score(y_test, RF_cen.predict(X_cen_test)))\n",
    "print('MSE:', mean_squared_error(y_test, RF_cen.predict(X_cen_test)))"
   ]
  },
  {
   "cell_type": "markdown",
   "metadata": {
    "colab_type": "text",
    "id": "rGcWyPBw_3zY"
   },
   "source": [
    "# Gradient Boosting"
   ]
  },
  {
   "cell_type": "markdown",
   "metadata": {
    "colab_type": "text",
    "id": "BoGe3Uzyrxad"
   },
   "source": [
    "## Decentralized"
   ]
  },
  {
   "cell_type": "markdown",
   "metadata": {
    "colab_type": "text",
    "id": "HlElo6J6lpR1"
   },
   "source": [
    "### Selection of parameters"
   ]
  },
  {
   "cell_type": "code",
   "execution_count": 0,
   "metadata": {
    "colab": {
     "base_uri": "https://localhost:8080/",
     "height": 1000
    },
    "colab_type": "code",
    "executionInfo": {
     "elapsed": 115870,
     "status": "ok",
     "timestamp": 1585171821707,
     "user": {
      "displayName": "Paul-Emile Gras",
      "photoUrl": "https://lh3.googleusercontent.com/a-/AOh14Giun006VpfVDRCMkatdIZ4QMJQ93cuayK9VMSKVPw=s64",
      "userId": "16931926333659806768"
     },
     "user_tz": 240
    },
    "id": "A5sT_S_RjWEe",
    "outputId": "aeffe5ee-d212-4184-c9ad-cfd45d969995"
   },
   "outputs": [
    {
     "name": "stdout",
     "output_type": "stream",
     "text": [
      "model number: 1\n",
      "  parameters: [0.1, 23, 73, 5]\n",
      "  R2: 0.5625290827383915\n",
      "model number: 2\n",
      "  parameters: [0.5, 31, 197, 9]\n",
      "  R2: 0.49062760263433425\n",
      "model number: 3\n",
      "  parameters: [0.1, 56, 159, 5]\n",
      "  R2: 0.5136928710363216\n",
      "model number: 4\n",
      "  parameters: [0.5, 21, 133, 7]\n",
      "  R2: 0.41103492644472184\n",
      "model number: 5\n",
      "  parameters: [0.05, 46, 137, 8]\n",
      "  R2: 0.500396132658124\n",
      "model number: 6\n",
      "  parameters: [0.05, 17, 181, 7]\n",
      "  R2: 0.5469154417686408\n",
      "model number: 7\n",
      "  parameters: [0.05, 33, 76, 2]\n",
      "  R2: 0.6159345588515879\n",
      "model number: 8\n",
      "  parameters: [0.1, 52, 119, 4]\n",
      "  R2: 0.49076319133434576\n",
      "model number: 9\n",
      "  parameters: [0.5, 13, 69, 6]\n",
      "  R2: 0.44289619370462696\n",
      "model number: 10\n",
      "  parameters: [0.5, 21, 143, 2]\n",
      "  R2: 0.3746990734559279\n",
      "model number: 11\n",
      "  parameters: [0.01, 7, 189, 5]\n",
      "  R2: 0.5998029602037018\n",
      "model number: 12\n",
      "  parameters: [0.01, 19, 149, 8]\n",
      "  R2: 0.6166717368791989\n",
      "model number: 13\n",
      "  parameters: [0.5, 27, 179, 3]\n",
      "  R2: 0.3099930920368671\n",
      "model number: 14\n",
      "  parameters: [0.1, 43, 167, 6]\n",
      "  R2: 0.5084385352622034\n",
      "model number: 15\n",
      "  parameters: [0.05, 34, 106, 5]\n",
      "  R2: 0.5322034754982918\n",
      "model number: 16\n",
      "  parameters: [0.5, 53, 67, 5]\n",
      "  R2: 0.24394058354216253\n",
      "model number: 17\n",
      "  parameters: [0.01, 58, 55, 6]\n",
      "  R2: 0.559004802895566\n",
      "model number: 18\n",
      "  parameters: [0.05, 14, 172, 8]\n",
      "  R2: 0.5624013002906534\n",
      "model number: 19\n",
      "  parameters: [0.01, 18, 127, 6]\n",
      "  R2: 0.6103840033313359\n",
      "model number: 20\n",
      "  parameters: [0.05, 8, 133, 5]\n",
      "  R2: 0.5441207686954559\n",
      "\n",
      "Best Model:\n",
      "parameters: [0.01, 19, 149, 8]\n",
      "R2: 0.6166717368791989\n"
     ]
    }
   ],
   "source": [
    "learning_rate_ = [0.01, 0.05, 0.1, 0.5]\n",
    "max_features_ = list(range(2,64)) #there are 73-9 features\n",
    "n_estimators_ = list(range(50,200))\n",
    "max_depth_ = list(range(2,10))\n",
    "params=[]\n",
    "maximum1=0\n",
    "\n",
    "for i in range (20):\n",
    "\n",
    "  print('model number:',i+1)\n",
    "\n",
    "  lr = random.choice(learning_rate_)\n",
    "  mf = random.choice(max_features_)\n",
    "  ne = random.choice(n_estimators_)\n",
    "  md = random.choice(max_depth_)\n",
    "\n",
    "  print('  parameters:',[lr,mf,ne,md])\n",
    "\n",
    "  y_pred = []\n",
    "  for i in skuSet:\n",
    "    model_i = GradientBoostingRegressor(learning_rate=lr,\n",
    "                                        max_features=mf,\n",
    "                                        n_estimators=ne,\n",
    "                                        max_depth=md\n",
    "                                        ).fit(X_dict[i]['train'] , y_dict[i]['train'])\n",
    "    y_pred += list(model_i.predict(X_dict[i]['test']))\n",
    "\n",
    "  score=r2_score(y_test, np.array(y_pred))\n",
    "  print('  R2:',score)\n",
    "\n",
    "  if score>maximum1:\n",
    "    params = [lr,mf,ne,md]\n",
    "    maximum1 = score\n",
    "\n",
    "print('\\nBest Model:')\n",
    "print('parameters:',params)\n",
    "print('R2:',maximum1) "
   ]
  },
  {
   "cell_type": "markdown",
   "metadata": {
    "colab_type": "text",
    "id": "n8e2fGWcnfmZ"
   },
   "source": [
    "### Final Model"
   ]
  },
  {
   "cell_type": "code",
   "execution_count": 0,
   "metadata": {
    "colab": {
     "base_uri": "https://localhost:8080/",
     "height": 52
    },
    "colab_type": "code",
    "executionInfo": {
     "elapsed": 9233,
     "status": "ok",
     "timestamp": 1585172034749,
     "user": {
      "displayName": "Paul-Emile Gras",
      "photoUrl": "https://lh3.googleusercontent.com/a-/AOh14Giun006VpfVDRCMkatdIZ4QMJQ93cuayK9VMSKVPw=s64",
      "userId": "16931926333659806768"
     },
     "user_tz": 240
    },
    "id": "1141ciZbruJR",
    "outputId": "7e57a661-6c4a-4980-e191-1aa1da719657"
   },
   "outputs": [
    {
     "name": "stdout",
     "output_type": "stream",
     "text": [
      "R2: 0.6176965153325826\n",
      "MSE: 43253.470181975856\n"
     ]
    }
   ],
   "source": [
    "y_pred = []\n",
    "for i in skuSet:\n",
    "    model_i = GradientBoostingRegressor(learning_rate=0.01,\n",
    "                                        max_features=19,\n",
    "                                        n_estimators=149,\n",
    "                                        max_depth=8\n",
    "                                        ).fit(X_dict[i]['train'] , y_dict[i]['train'])\n",
    "    y_pred += list(model_i.predict(X_dict[i]['test']))\n",
    "\n",
    "print('R2:',r2_score(y_test, np.array(y_pred)))\n",
    "print('MSE:', mean_squared_error(y_test, np.array(y_pred)))"
   ]
  },
  {
   "cell_type": "markdown",
   "metadata": {
    "colab_type": "text",
    "id": "PngI9Ipxrr_p"
   },
   "source": [
    "## Centralized"
   ]
  },
  {
   "cell_type": "markdown",
   "metadata": {
    "colab_type": "text",
    "id": "P0YDE9i5nkYR"
   },
   "source": [
    "### Selection of parameters"
   ]
  },
  {
   "cell_type": "code",
   "execution_count": 0,
   "metadata": {
    "colab": {
     "base_uri": "https://localhost:8080/",
     "height": 1000
    },
    "colab_type": "code",
    "executionInfo": {
     "elapsed": 48809,
     "status": "ok",
     "timestamp": 1585172606374,
     "user": {
      "displayName": "Paul-Emile Gras",
      "photoUrl": "https://lh3.googleusercontent.com/a-/AOh14Giun006VpfVDRCMkatdIZ4QMJQ93cuayK9VMSKVPw=s64",
      "userId": "16931926333659806768"
     },
     "user_tz": 240
    },
    "id": "TrmgPaLlnm9L",
    "outputId": "a53c95b3-8d96-4e49-953b-8c5de67fd7d4"
   },
   "outputs": [
    {
     "name": "stdout",
     "output_type": "stream",
     "text": [
      "model number: 1\n",
      "  parameters: [0.05, 34, 154, 9]\n",
      "  R2: 0.19223077190733073\n",
      "model number: 2\n",
      "  parameters: [0.01, 59, 158, 3]\n",
      "  R2: 0.28635748330585276\n",
      "model number: 3\n",
      "  parameters: [0.5, 18, 186, 2]\n",
      "  R2: 0.275164603047628\n",
      "model number: 4\n",
      "  parameters: [0.05, 36, 188, 8]\n",
      "  R2: 0.2754754827786501\n",
      "model number: 5\n",
      "  parameters: [0.01, 36, 56, 4]\n",
      "  R2: 0.2171682209439818\n",
      "model number: 6\n",
      "  parameters: [0.01, 17, 151, 3]\n",
      "  R2: 0.2705764310583413\n",
      "model number: 7\n",
      "  parameters: [0.1, 49, 175, 2]\n",
      "  R2: 0.3807290031934699\n",
      "model number: 8\n",
      "  parameters: [0.01, 42, 51, 5]\n",
      "  R2: 0.23513690212187455\n",
      "model number: 9\n",
      "  parameters: [0.5, 32, 190, 2]\n",
      "  R2: 0.2692181692493456\n",
      "model number: 10\n",
      "  parameters: [0.5, 2, 180, 9]\n",
      "  R2: 0.15687143962184336\n",
      "model number: 11\n",
      "  parameters: [0.05, 9, 68, 7]\n",
      "  R2: 0.3996982852358302\n",
      "model number: 12\n",
      "  parameters: [0.1, 23, 153, 9]\n",
      "  R2: 0.22538097297103965\n",
      "model number: 13\n",
      "  parameters: [0.1, 61, 195, 7]\n",
      "  R2: 0.2606583465387159\n",
      "model number: 14\n",
      "  parameters: [0.01, 11, 77, 9]\n",
      "  R2: 0.3587710255470047\n",
      "model number: 15\n",
      "  parameters: [0.1, 35, 64, 9]\n",
      "  R2: 0.21180064283588473\n",
      "model number: 16\n",
      "  parameters: [0.1, 22, 60, 9]\n",
      "  R2: 0.24712839339386738\n",
      "model number: 17\n",
      "  parameters: [0.5, 50, 70, 6]\n",
      "  R2: -0.0076466711980418545\n",
      "model number: 18\n",
      "  parameters: [0.1, 21, 197, 6]\n",
      "  R2: 0.3386917988057887\n",
      "model number: 19\n",
      "  parameters: [0.1, 15, 64, 3]\n",
      "  R2: 0.35900823829411366\n",
      "model number: 20\n",
      "  parameters: [0.1, 23, 67, 9]\n",
      "  R2: 0.29403427994672193\n",
      "\n",
      "Best Model:\n",
      "parameters: [0.05, 9, 68, 7]\n",
      "R2: 0.3996982852358302\n"
     ]
    }
   ],
   "source": [
    "learning_rate_ = [0.01, 0.05, 0.1, 0.5]\n",
    "max_features_ = list(range(2,64)) #there are 73 features minus the first 9\n",
    "n_estimators_ = list(range(50,200))\n",
    "max_depth_ = list(range(2,10))\n",
    "params=[]\n",
    "maximum1=0\n",
    "\n",
    "for i in range (20):\n",
    "\n",
    "  print('model number:',i+1)\n",
    "\n",
    "  lr = random.choice(learning_rate_)\n",
    "  mf = random.choice(max_features_)\n",
    "  ne = random.choice(n_estimators_)\n",
    "  md = random.choice(max_depth_)\n",
    "\n",
    "  print('  parameters:',[lr,mf,ne,md])\n",
    "\n",
    "  GB_cen = model_i = GradientBoostingRegressor(learning_rate=lr,\n",
    "                                        max_features=mf,\n",
    "                                        n_estimators=ne,\n",
    "                                        max_depth=md\n",
    "                                        ).fit(X_cen_train, y_train)\n",
    "\n",
    "  score=r2_score(y_test, GB_cen.predict(X_cen_test))\n",
    "  print('  R2:',score)\n",
    "\n",
    "  if score>maximum1:\n",
    "    params = [lr,mf,ne,md]\n",
    "    maximum1 = score\n",
    "\n",
    "print('\\nBest Model:')\n",
    "print('parameters:',params)\n",
    "print('R2:',maximum1) "
   ]
  },
  {
   "cell_type": "markdown",
   "metadata": {
    "colab_type": "text",
    "id": "a3MbND0DnnIF"
   },
   "source": [
    "### Final Model"
   ]
  },
  {
   "cell_type": "code",
   "execution_count": 0,
   "metadata": {
    "colab": {
     "base_uri": "https://localhost:8080/",
     "height": 52
    },
    "colab_type": "code",
    "executionInfo": {
     "elapsed": 1602,
     "status": "ok",
     "timestamp": 1585177419998,
     "user": {
      "displayName": "Paul-Emile Gras",
      "photoUrl": "https://lh3.googleusercontent.com/a-/AOh14Giun006VpfVDRCMkatdIZ4QMJQ93cuayK9VMSKVPw=s64",
      "userId": "16931926333659806768"
     },
     "user_tz": 240
    },
    "id": "eEGfjMYPhi1y",
    "outputId": "39c7b034-85c0-4888-c476-e631ae1a051c"
   },
   "outputs": [
    {
     "name": "stdout",
     "output_type": "stream",
     "text": [
      "R2: 0.4383358458708545\n",
      "MSE: 63546.17396188278\n"
     ]
    }
   ],
   "source": [
    "GB_cen = GradientBoostingRegressor(learning_rate=0.05,\n",
    "                                        max_features=9,\n",
    "                                        n_estimators=68,\n",
    "                                        max_depth=7\n",
    "                                        ).fit(X_cen_train, y_train)\n",
    "print('R2:',r2_score(y_test, GB_cen.predict(X_cen_test)))  \n",
    "print('MSE:', mean_squared_error(y_test, GB_cen.predict(X_cen_test)))"
   ]
  },
  {
   "cell_type": "markdown",
   "metadata": {
    "colab_type": "text",
    "id": "MF0md9HQ_xl5"
   },
   "source": [
    "# Neural Net"
   ]
  },
  {
   "cell_type": "markdown",
   "metadata": {
    "colab_type": "text",
    "id": "ksdlAEROBA8c"
   },
   "source": [
    "## Basic Net"
   ]
  },
  {
   "cell_type": "code",
   "execution_count": 0,
   "metadata": {
    "colab": {
     "base_uri": "https://localhost:8080/",
     "height": 52
    },
    "colab_type": "code",
    "executionInfo": {
     "elapsed": 82317,
     "status": "ok",
     "timestamp": 1585075101971,
     "user": {
      "displayName": "Paul-Emile Gras",
      "photoUrl": "https://lh3.googleusercontent.com/a-/AOh14Giun006VpfVDRCMkatdIZ4QMJQ93cuayK9VMSKVPw=s64",
      "userId": "16931926333659806768"
     },
     "user_tz": 240
    },
    "id": "nQ9sRc5tnPLs",
    "outputId": "6bdd9d02-4de6-487d-ffa4-b11d1f226d21"
   },
   "outputs": [
    {
     "name": "stdout",
     "output_type": "stream",
     "text": [
      "R2: -0.9352150123815055\n",
      "MSE: 218948.47468255213\n"
     ]
    }
   ],
   "source": [
    "mlp = MLPClassifier(hidden_layer_sizes=(30,30),max_iter=100).fit(X_cen_train,y_train)\n",
    "print('R2:',r2_score(y_test, mlp.predict(X_cen_test)))  \n",
    "print('MSE:', mean_squared_error(y_test, mlp.predict(X_cen_test)))"
   ]
  },
  {
   "cell_type": "markdown",
   "metadata": {
    "colab_type": "text",
    "id": "mDS25V_2BEyB"
   },
   "source": [
    "## Hyperparameters Selection"
   ]
  },
  {
   "cell_type": "code",
   "execution_count": 0,
   "metadata": {
    "colab": {
     "base_uri": "https://localhost:8080/",
     "height": 887
    },
    "colab_type": "code",
    "executionInfo": {
     "elapsed": 1406908,
     "status": "ok",
     "timestamp": 1585079980605,
     "user": {
      "displayName": "Paul-Emile Gras",
      "photoUrl": "https://lh3.googleusercontent.com/a-/AOh14Giun006VpfVDRCMkatdIZ4QMJQ93cuayK9VMSKVPw=s64",
      "userId": "16931926333659806768"
     },
     "user_tz": 240
    },
    "id": "w26rYmedooqY",
    "outputId": "25aae8ce-812d-482b-8c22-d373e4c7c8f8"
   },
   "outputs": [
    {
     "name": "stdout",
     "output_type": "stream",
     "text": [
      "model number: 1\n",
      "  parameters: [(18, 6), 0.05, 7]\n",
      "  R2: -0.1009095662017867\n",
      "model number: 2\n",
      "  parameters: [(37, 4), 0.05, 11]\n",
      "  R2: -0.1009095662017867\n",
      "model number: 3\n",
      "  parameters: [(5, 37), 0.1, 30]\n",
      "  R2: -0.1028072215862883\n",
      "model number: 4\n",
      "  parameters: [(9, 17), 0.5, 47]\n",
      "  R2: -0.1028072215862883\n",
      "model number: 5\n",
      "  parameters: [(36,), 0.05, 42]\n",
      "  R2: -0.10243410994723612\n",
      "model number: 6\n",
      "  parameters: [(42,), 0.1, 42]\n",
      "  R2: -0.10472255432629729\n",
      "model number: 7\n",
      "  parameters: [(8, 30), 0.01, 4]\n",
      "  R2: 0.2250145380004489\n",
      "model number: 8\n",
      "  parameters: [(28, 34), 0.5, 49]\n",
      "  R2: -0.0990295881727925\n",
      "model number: 9\n",
      "  parameters: [(43,), 0.5, 37]\n",
      "  R2: -0.10472255432629729\n",
      "model number: 10\n",
      "  parameters: [(3, 15), 0.01, 49]\n",
      "  R2: 0.06475526183036107\n",
      "model number: 11\n",
      "  parameters: [(29, 20), 0.05, 40]\n",
      "  R2: -0.054544083806472576\n",
      "model number: 12\n",
      "  parameters: [(12,), 0.01, 29]\n",
      "  R2: -0.36328904073581647\n",
      "model number: 13\n",
      "  parameters: [(49, 48), 0.5, 40]\n",
      "  R2: -0.08290526690967748\n",
      "model number: 14\n",
      "  parameters: [(36,), 0.5, 47]\n",
      "  R2: -0.09716728749930592\n",
      "model number: 15\n",
      "  parameters: [(44,), 0.01, 31]\n",
      "  R2: -0.5288156270814675\n",
      "\n",
      "Best Model:\n",
      "parameters: [(8, 30), 0.01, 4]\n",
      "R2: 0.2250145380004489\n"
     ]
    }
   ],
   "source": [
    "learning_rates = [0.01, 0.05, 0.1, 0.5]\n",
    "num_neuron = list(range(2,50))\n",
    "batch_sizes = list(range(4,50))\n",
    "params=[]\n",
    "maximum1=0\n",
    "\n",
    "for i in range (15):\n",
    "\n",
    "  print('model number:',i+1)\n",
    "\n",
    "  toss=random.choice([1,2])\n",
    "  if toss==1:\n",
    "    ls = (random.choice(num_neuron),)\n",
    "  else:\n",
    "    ls=(random.choice(num_neuron),random.choice(num_neuron))\n",
    "\n",
    "  lr = random.choice(learning_rates)\n",
    "  batch_size = random.choice(batch_sizes)\n",
    "\n",
    "  print('  parameters:',[ls,lr,batch_size])\n",
    "\n",
    "  mlp=MLPClassifier(hidden_layer_sizes=ls,\n",
    "              activation='relu',\n",
    "              batch_size=batch_size, \n",
    "              learning_rate_init=lr, \n",
    "              max_iter=100)\n",
    "  \n",
    "  mlp.fit(X_cen_train,y_train)\n",
    "\n",
    "  score=r2_score(y_test, mlp.predict(X_cen_test))\n",
    "  print('  R2:',score)\n",
    "\n",
    "  if score>maximum1:\n",
    "    params = [ls,lr,batch_size]\n",
    "    maximum1 = score\n",
    "\n",
    "print('\\nBest Model:')\n",
    "print('parameters:',params)\n",
    "print('R2:',maximum1)  "
   ]
  },
  {
   "cell_type": "markdown",
   "metadata": {
    "colab_type": "text",
    "id": "hCqAJQejwOLK"
   },
   "source": [
    "## Final Net"
   ]
  },
  {
   "cell_type": "code",
   "execution_count": 0,
   "metadata": {
    "colab": {
     "base_uri": "https://localhost:8080/",
     "height": 52
    },
    "colab_type": "code",
    "executionInfo": {
     "elapsed": 21544,
     "status": "ok",
     "timestamp": 1585083543232,
     "user": {
      "displayName": "Paul-Emile Gras",
      "photoUrl": "https://lh3.googleusercontent.com/a-/AOh14Giun006VpfVDRCMkatdIZ4QMJQ93cuayK9VMSKVPw=s64",
      "userId": "16931926333659806768"
     },
     "user_tz": 240
    },
    "id": "ZfmBdBwtHHXR",
    "outputId": "921956ac-cfeb-45a3-9c5c-a565324e0bd0"
   },
   "outputs": [
    {
     "name": "stdout",
     "output_type": "stream",
     "text": [
      "R2: 0.21487454749899038\n",
      "MSE: 88828.382975388\n"
     ]
    }
   ],
   "source": [
    "ls,lr,batch_size=params\n",
    "\n",
    "mlp=MLPClassifier(hidden_layer_sizes=(8, 30),\n",
    "              activation='relu',\n",
    "              batch_size=4, \n",
    "              learning_rate_init=0.01, \n",
    "              max_iter=1000).fit(X_cen_train,y_train)\n",
    "\n",
    "print('R2:',r2_score(y_test, mlp.predict(X_cen_test)))  \n",
    "print('MSE:', mean_squared_error(y_test, mlp.predict(X_cen_test)))"
   ]
  }
 ],
 "metadata": {
  "accelerator": "TPU",
  "colab": {
   "collapsed_sections": [
    "sOnLpDJj8Szx",
    "S_NKPO1bBUYV",
    "pep1xBvk8S0X",
    "s4i8Lmm2_0lK",
    "i88KHBRQIwin",
    "LQnva2XF_t3j",
    "aDw4YI0q_pUi",
    "rGcWyPBw_3zY",
    "MF0md9HQ_xl5"
   ],
   "name": "models_dept_33.ipynb",
   "provenance": [],
   "toc_visible": true
  },
  "kernelspec": {
   "display_name": "Python 3",
   "language": "python",
   "name": "python3"
  },
  "language_info": {
   "codemirror_mode": {
    "name": "ipython",
    "version": 3
   },
   "file_extension": ".py",
   "mimetype": "text/x-python",
   "name": "python",
   "nbconvert_exporter": "python",
   "pygments_lexer": "ipython3",
   "version": "3.7.4"
  }
 },
 "nbformat": 4,
 "nbformat_minor": 1
}
