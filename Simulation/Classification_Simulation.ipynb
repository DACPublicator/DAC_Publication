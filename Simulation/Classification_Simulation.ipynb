{
 "cells": [
  {
   "cell_type": "code",
   "execution_count": 4,
   "metadata": {
    "ExecuteTime": {
     "end_time": "2020-04-16T22:04:54.294246Z",
     "start_time": "2020-04-16T22:04:51.639935Z"
    }
   },
   "outputs": [],
   "source": [
    "import numpy as np\n",
    "import pandas as pd\n",
    "from sklearn.linear_model import LinearRegression, LassoCV,LogisticRegression\n",
    "from sklearn.metrics import r2_score\n",
    "from scipy.stats import norm\n",
    "from sklearn.cluster import KMeans\n",
    "import random\n",
    "from statsmodels.regression.linear_model import OLS\n",
    "import statsmodels.api as sm\n",
    "import matplotlib.pyplot as plt\n",
    "from sklearn.metrics import mean_squared_error\n",
    "from sklearn.metrics import roc_auc_score\n",
    "\n",
    "from scipy.stats import bernoulli\n",
    "\n",
    "from scipy.special import expit\n",
    "\n",
    "from matplotlib.ticker import MaxNLocator\n",
    "\n",
    "# suppress all warnings\n",
    "import warnings\n",
    "warnings.filterwarnings(\"ignore\")"
   ]
  },
  {
   "cell_type": "markdown",
   "metadata": {},
   "source": [
    "# Default parameters"
   ]
  },
  {
   "cell_type": "code",
   "execution_count": 8,
   "metadata": {
    "ExecuteTime": {
     "end_time": "2020-04-16T22:06:11.670611Z",
     "start_time": "2020-04-16T22:06:11.666925Z"
    }
   },
   "outputs": [],
   "source": [
    "# number of items\n",
    "n = 20\n",
    "\n",
    "# number of features\n",
    "d = 5\n",
    "\n",
    "# number of observations for each item\n",
    "obs = 10\n",
    "\n",
    "# number of clusters\n",
    "z = 2\n",
    "\n",
    "# number of trials\n",
    "T = 100\n",
    "\n",
    "# noise\n",
    "sigma = 1\n",
    "\n",
    "# prob\n",
    "p, q = 2/3,1/6"
   ]
  },
  {
   "cell_type": "markdown",
   "metadata": {},
   "source": [
    "# Model with Benchmarks"
   ]
  },
  {
   "cell_type": "code",
   "execution_count": 9,
   "metadata": {
    "ExecuteTime": {
     "end_time": "2020-04-16T22:06:12.506764Z",
     "start_time": "2020-04-16T22:06:12.448275Z"
    }
   },
   "outputs": [],
   "source": [
    "def fit_classification_simulation(Ru,Rl,method=\"bfgs\"):\n",
    "    auc_alg_t, auc_b1_t, auc_b2_t, auc_lasso_t, auc_clus_t,auc_true_t =  np.zeros(T), np.zeros(T),np.zeros(T), np.zeros(T), np.zeros(T),np.zeros(T)\n",
    "    \n",
    "    flag = False\n",
    "    for t in range(T):\n",
    "        while not flag:\n",
    "            # generate data\n",
    "            data = np.random.rand(n*obs,d)\n",
    "            data_test = np.random.rand(int(n*obs/2),d)\n",
    "\n",
    "            # generate clusters and betas\n",
    "            feature_dict = {}\n",
    "            clus_dict = {} # might not be used depending on the feature dict\n",
    "\n",
    "            for i in range(d):\n",
    "                # whether this feature should be estimated at the department level or not\n",
    "                feature_dict[i] = np.random.choice(['dept', 'clus', 'sku'], p = [p, q, 1-p-q])\n",
    "            #print(feature_dict)\n",
    "\n",
    "\n",
    "\n",
    "            for i in range(z):\n",
    "                clus_items = random.sample(items,int(n/z))\n",
    "                clus_dict[i] = clus_items\n",
    "                items = items - set(clus_items)\n",
    "\n",
    "            # generate Beta\n",
    "            beta_dict = {}\n",
    "            num_cols = 0\n",
    "            for i in range(d):\n",
    "                if feature_dict[i] == 'dept':\n",
    "                    beta_dict[i] = (np.random.random_sample() - 0.5) * 10\n",
    "                    num_cols += 1\n",
    "                elif feature_dict[i] == 'clus':\n",
    "                    beta_dict[i] = (np.random.random_sample(size = z) - 0.5) * 10\n",
    "                    num_cols += z\n",
    "                else:\n",
    "                    beta_dict[i] = (np.random.random_sample(size = n) - 0.5) * 10\n",
    "                    num_cols += n\n",
    "\n",
    "            X_true = np.zeros((n*obs, num_cols))\n",
    "            X_test = np.zeros((int(n*obs/2), num_cols))\n",
    "\n",
    "            beta = np.zeros(num_cols)\n",
    "            count = 0\n",
    "            for i in range(d):\n",
    "                if feature_dict[i] == 'dept':\n",
    "                    beta[count] = beta_dict[i]\n",
    "                    X_true[:,count] = data[:,i]\n",
    "                    X_test[:,count] = data_test[:,i]\n",
    "\n",
    "                    count += 1\n",
    "\n",
    "                elif feature_dict[i] == 'clus':\n",
    "                    for j in range(z):\n",
    "                        clus_items = clus_dict[j]\n",
    "                        for sku in clus_items:\n",
    "                            X_true[sku*obs:(sku+1)*obs, count] = data[sku*obs:(sku+1)*obs, i]\n",
    "                            X_test[int(sku*obs/2):int((sku+1)*obs/2), count] = data_test[int(sku*obs/2):int((sku+1)*obs/2), i]\n",
    "\n",
    "                        beta[count] = beta_dict[i][j]\n",
    "                        count += 1\n",
    "                else:\n",
    "                    for j in range(n):\n",
    "                        X_true[j*obs:(j+1)*obs, count] = data[j*obs:(j+1)*obs, i]\n",
    "                        X_test[int(j*obs/2):int((j+1)*obs/2), count] = data_test[int(j*obs/2):int((j+1)*obs/2), i]\n",
    "                        beta[count] = beta_dict[i][j]\n",
    "                        count += 1\n",
    "            mu = np.dot(X_true, beta)\n",
    "            mu_test = np.dot(X_test, beta)\n",
    "            y = bernoulli.rvs(size=len(mu),p=expit(mu)) #generate y from a bernoulli distribution with p = logit(X*beta)\n",
    "            y_test = bernoulli.rvs(size=len(mu_test),p=expit(mu_test))\n",
    "            \n",
    "            #we are going to test if some features only have labels 1 or 0 and repeat \n",
    "            #the data generation until we have balanced generated data\n",
    "            c= 0\n",
    "            for i in range(n):\n",
    "                if np.mean(y[i*obs:(i+1)*obs])*(1-np.mean(y[i*obs:(i+1)*obs]))==0:\n",
    "                    c +=1\n",
    "            if c==0:\n",
    "                break\n",
    "        #Thoeretical Perfect DAC to perform sanity checks\n",
    "        model_true = sm.Logit(y, X_true).fit(method=method,maxiter=100)\n",
    "        y_pred = model_true.predict(X_test)\n",
    "        auc_true_t[t] = roc_auc_score(y_test, np.array(y_pred))\n",
    "        \n",
    "        #DECENTRALIZED\n",
    "        \n",
    "        y_pred = []\n",
    "        logit_models = {}\n",
    "        for i in range(n):\n",
    "\n",
    "            logit_models[i] = sm.Logit(y[i*obs:(i+1)*obs],data[i*obs:(i+1)*obs,:]).fit(method=method,maxiter=100)\n",
    "            y_pred += list(logit_models[i].predict(data_test[int(i*obs/2):int((i+1)*obs/2),:]))\n",
    "\n",
    "        auc_b1_t[t] = roc_auc_score(y_test,np.array(y_pred))\n",
    "        \n",
    "        \n",
    "        #DAC\n",
    "        \n",
    "        aggre_level = []\n",
    "        clus_columns = []\n",
    "        all_coeff = np.zeros((n,d))\n",
    "        all_coeff[0,:] = logit_models[0].params\n",
    "        n_cols_alg = 0\n",
    "\n",
    "        for j in range(d):\n",
    "\n",
    "            # a n-1 vector recording if two betas have the same mean\n",
    "            test_j = np.zeros(n-1)\n",
    "\n",
    "            for i in range(1,n):\n",
    "               #print(i,j)\n",
    "                all_coeff[i,j] = logit_models[i].params[j]\n",
    "\n",
    "                z_stat = ( np.abs(logit_models[0].params[j] - logit_models[i].params[j]) / \n",
    "                          np.sqrt(np.square(logit_models[0].bse[j]) + np.square(logit_models[i].bse[j])) )\n",
    "                p_value = 1 - norm.cdf(z_stat)\n",
    "                if p_value >= 0.05:  #P-value ->0.05\n",
    "                    test_j[i-1] = 1\n",
    "\n",
    "            if np.sum(test_j) >= Ru*(n-1):\n",
    "                aggre_level.append('dept')\n",
    "                n_cols_alg += 1\n",
    "\n",
    "            elif np.sum(test_j) <= Rl*(n-1):\n",
    "                aggre_level.append('sku')\n",
    "                n_cols_alg += n\n",
    "\n",
    "            else:\n",
    "                aggre_level.append('clus')\n",
    "                clus_columns.append(j)\n",
    "                n_cols_alg += z\n",
    "\n",
    "        if len(clus_columns) > 0:\n",
    "            X_clus = all_coeff[:, clus_columns]\n",
    "            kmeans = KMeans(n_clusters=z, random_state=0).fit(X_clus)\n",
    "\n",
    "        X_alg = np.zeros((n*obs, n_cols_alg))\n",
    "        X_test = np.zeros((int(n*obs/2), n_cols_alg))\n",
    "\n",
    "        count = 0\n",
    "        for i in range(d):\n",
    "            if aggre_level[i] == 'dept':\n",
    "                X_alg[:,count] = data[:,i]\n",
    "                X_test[:,count] = data_test[:,i]\n",
    "                count += 1\n",
    "\n",
    "            elif aggre_level[i] == 'clus':\n",
    "                for j in range(z):\n",
    "                    clus_items = list(np.where(kmeans.labels_ == j)[0])\n",
    "                    for sku in clus_items:\n",
    "                        X_alg[sku*obs:(sku+1)*obs, count] = data[sku*obs:(sku+1)*obs, i]\n",
    "                        X_test[int(sku*obs/2):int((sku+1)*obs/2), count] = data_test[int(sku*obs/2):int((sku+1)*obs/2), i]\n",
    "\n",
    "\n",
    "                    count += 1\n",
    "            else:\n",
    "                for j in range(n):\n",
    "                    X_alg[j*obs:(j+1)*obs, count] = data[j*obs:(j+1)*obs, i]\n",
    "                    X_test[int(j*obs/2):int((j+1)*obs/2), count] = data_test[int(j*obs/2):int((j+1)*obs/2), i]\n",
    "                    count += 1\n",
    "                    \n",
    "                    \n",
    "        model_0 = sm.Logit(y,X_alg).fit(method=method,maxiter=100)\n",
    "        auc_alg_t[t] = roc_auc_score(y_test,model_0.predict(X_test))\n",
    "        \n",
    "        \n",
    "        # CENTRALIZED\n",
    "        \n",
    "        model_0 = sm.Logit(y,data).fit(method=method,maxiter=100)\n",
    "        auc_b2_t[t] = roc_auc_score(y_test,model_0.predict(data_test))\n",
    "        \n",
    "\n",
    "        # CLUSTER \n",
    "        \n",
    "        X_clus = np.zeros((n, d))\n",
    "        count = 0\n",
    "        y_pred = np.zeros(int(n*obs/2))\n",
    "        for i in range(n):\n",
    "            X_clus[count, :] = np.mean(data[i*obs:(i+1)*obs,:], axis = 0)\n",
    "            count += 1\n",
    "        \n",
    "        kmeans = KMeans(n_clusters=z, random_state=0).fit(X_clus)\n",
    "        for i in range(z):\n",
    "            clus_items = list(np.where(kmeans.labels_ == i)[0])\n",
    "            base_rows = np.array(list(range(obs)))\n",
    "            base_rows_test = np.array(list(range(int(obs/2))))\n",
    "            rows = []\n",
    "            test_rows = []\n",
    "            for j in clus_items:\n",
    "                rows += list(range( j*obs, (j+1)*obs ))\n",
    "                test_rows += list(range( j*int(obs/2), (j+1)*int(obs/2) ))\n",
    "            \n",
    "            model_i = sm.Logit(y[np.ix_(rows)], data[np.ix_(rows)]).fit(method=method,maxiter=100)\n",
    "            y_pred[np.ix_(test_rows)] = model_i.predict(data_test[np.ix_(test_rows)])\n",
    "\n",
    "        auc_clus_t[t] = roc_auc_score(y_test,np.array(y_pred))\n",
    "        \n",
    "        \n",
    "    return(np.mean(auc_alg_t),np.mean(auc_b1_t),np.mean(auc_b2_t),np.mean(auc_clus_t),np.mean(auc_true_t))\n",
    "        "
   ]
  },
  {
   "cell_type": "markdown",
   "metadata": {},
   "source": [
    "# Varying features"
   ]
  },
  {
   "cell_type": "markdown",
   "metadata": {},
   "source": [
    "### Varying number of items"
   ]
  },
  {
   "cell_type": "code",
   "execution_count": null,
   "metadata": {},
   "outputs": [],
   "source": [
    "list_n = [i for i in range(10,35,5)]\n",
    "\n",
    "T=100 \n",
    "obs = 50\n",
    "\n",
    "auc_alg, auc_b1, auc_b2, auc_clus = [], [], [], []\n",
    "for n in list_n:\n",
    "    result_1, result_2, result_3, result_4,result_5 = fit_classification_simulation(0.9,0.6)\n",
    "    auc_alg.append(result_1)\n",
    "    auc_b1.append(result_2)\n",
    "    auc_b2.append(result_3)\n",
    "    auc_clus.append(result_4)\n",
    "    print(\"items:\",n)"
   ]
  },
  {
   "cell_type": "code",
   "execution_count": 12,
   "metadata": {},
   "outputs": [
    {
     "data": {
      "image/png": "[encoded data removed]",
      "text/plain": [
       "<Figure size 432x288 with 1 Axes>"
      ]
     },
     "metadata": {
      "needs_background": "light"
     },
     "output_type": "display_data"
    }
   ],
   "source": [
    "fig, ax = plt.subplots()\n",
    "\n",
    "plt.plot(list_n, auc_alg,\"--\",label = 'DAC')\n",
    "plt.plot(list_n, auc_b1,'',label = 'Decentralized')\n",
    "plt.plot(list_n, auc_b2,linestyle=(0, (5, 2, 1, 2)), dash_capstyle='round',label = 'Centralized')\n",
    "plt.plot(list_n, auc_clus,'y-o',markersize=3,label = 'Clustering')\n",
    "\n",
    "\n",
    "\n",
    "\n",
    "plt.legend(loc='upper left',frameon=False,prop={'size': 9})\n",
    "plt.xlabel('n')\n",
    "plt.ylabel('AUC')\n",
    "plt.ylim(0.7,0.95)\n",
    "ax.xaxis.set_major_locator(MaxNLocator(integer=True))\n",
    "plt.show()"
   ]
  },
  {
   "cell_type": "markdown",
   "metadata": {},
   "source": [
    "### Varying number of features"
   ]
  },
  {
   "cell_type": "code",
   "execution_count": null,
   "metadata": {},
   "outputs": [],
   "source": [
    "list_d = [i for i in range(5,16,1)]\n",
    "\n",
    "n = 20\n",
    "\n",
    "T=100 \n",
    "obs = 50\n",
    "\n",
    "auc_alg, auc_b1, auc_b2, auc_clus = [], [], [], []\n",
    "for d in list_d:\n",
    "    result_1, result_2, result_3, result_4,result_5 = fit_classification_simulation(0.9,0.6)\n",
    "    auc_alg.append(result_1)\n",
    "    auc_b1.append(result_2)\n",
    "    auc_b2.append(result_3)\n",
    "    auc_clus.append(result_4)\n",
    "    print(\"items:\",n)"
   ]
  },
  {
   "cell_type": "code",
   "execution_count": 14,
   "metadata": {},
   "outputs": [
    {
     "data": {
      "image/png": "[encoded data removed]",
      "text/plain": [
       "<Figure size 432x288 with 1 Axes>"
      ]
     },
     "metadata": {
      "needs_background": "light"
     },
     "output_type": "display_data"
    }
   ],
   "source": [
    "fig, ax = plt.subplots()\n",
    "\n",
    "plt.plot(list_d, auc_alg,\"--\",label = 'DAC')\n",
    "plt.plot(list_d, auc_b1,'',label = 'Decentralized')\n",
    "plt.plot(list_d, auc_b2,linestyle=(0, (5, 2, 1, 2)), dash_capstyle='round',label = 'Centralized')\n",
    "plt.plot(list_d, auc_clus,'y-o',markersize=3,label = 'Clustering')\n",
    "\n",
    "\n",
    "plt.legend(loc='upper left',frameon=False,prop={'size': 9})\n",
    "plt.xlabel('d')\n",
    "plt.ylabel('AUC')\n",
    "plt.ylim(0.7,0.95)\n",
    "ax.xaxis.set_major_locator(MaxNLocator(integer=True))\n",
    "plt.show()"
   ]
  },
  {
   "cell_type": "markdown",
   "metadata": {},
   "source": [
    "### Varying number of observations"
   ]
  },
  {
   "cell_type": "code",
   "execution_count": null,
   "metadata": {},
   "outputs": [],
   "source": [
    "list_m = [i for i in range(40,110,10)]\n",
    "\n",
    "n = 20\n",
    "d = 5\n",
    "T= 100 \n",
    "\n",
    "auc_alg, auc_b1, auc_b2, auc_clus = [], [], [], []\n",
    "for obs in list_m:\n",
    "    result_1, result_2, result_3, result_4,result_5 = fit_classification_simulation(0.9,0.6,\"bfgs\")\n",
    "    auc_alg.append(result_1)\n",
    "    auc_b1.append(result_2)\n",
    "    auc_b2.append(result_3)\n",
    "    auc_clus.append(result_4)\n",
    "    print(\"obs:\",obs)"
   ]
  },
  {
   "cell_type": "code",
   "execution_count": 16,
   "metadata": {},
   "outputs": [
    {
     "data": {
      "image/png": "[encoded data removed]",
      "text/plain": [
       "<Figure size 432x288 with 1 Axes>"
      ]
     },
     "metadata": {
      "needs_background": "light"
     },
     "output_type": "display_data"
    }
   ],
   "source": [
    "fig, ax = plt.subplots()\n",
    "\n",
    "plt.plot(list_m, auc_alg,\"--\",label = 'DAC')\n",
    "plt.plot(list_m, auc_b1,'',label = 'Decentralized')\n",
    "plt.plot(list_m, auc_b2,linestyle=(0, (5, 2, 1, 2)), dash_capstyle='round',label = 'Centralized')\n",
    "plt.plot(list_m, auc_clus,'y-o',markersize=3,label = 'Clustering')\n",
    "\n",
    "\n",
    "\n",
    "\n",
    "plt.legend(loc='upper left',frameon=False,prop={'size': 9})\n",
    "plt.xlabel('m')\n",
    "plt.ylabel('AUC')\n",
    "plt.ylim(0.7,0.95)\n",
    "#ax.xaxis.set_major_locator(MaxNLocator(integer=True))\n",
    "plt.show()"
   ]
  },
  {
   "cell_type": "code",
   "execution_count": null,
   "metadata": {},
   "outputs": [],
   "source": []
  }
 ],
 "metadata": {
  "kernelspec": {
   "display_name": "Python 3",
   "language": "python",
   "name": "python3"
  },
  "language_info": {
   "codemirror_mode": {
    "name": "ipython",
    "version": 3
   },
   "file_extension": ".py",
   "mimetype": "text/x-python",
   "name": "python",
   "nbconvert_exporter": "python",
   "pygments_lexer": "ipython3",
   "version": "3.8.5"
  },
  "toc": {
   "base_numbering": 1,
   "nav_menu": {},
   "number_sections": true,
   "sideBar": true,
   "skip_h1_title": false,
   "title_cell": "Table of Contents",
   "title_sidebar": "Contents",
   "toc_cell": false,
   "toc_position": {
    "height": "calc(100% - 180px)",
    "left": "10px",
    "top": "150px",
    "width": "320px"
   },
   "toc_section_display": true,
   "toc_window_display": true
  }
 },
 "nbformat": 4,
 "nbformat_minor": 2
}
